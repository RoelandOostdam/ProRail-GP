{
 "cells": [
  {
   "cell_type": "code",
   "execution_count": 1,
   "metadata": {
    "pycharm": {
     "is_executing": false
    }
   },
   "outputs": [],
   "source": [
    "import numpy as np\n",
    "import pandas as pd\n",
    "import matplotlib.pyplot as plt"
   ]
  },
  {
   "cell_type": "markdown",
   "metadata": {},
   "source": [
    "Voor een betere display met `head()`"
   ]
  },
  {
   "cell_type": "code",
   "execution_count": 2,
   "metadata": {
    "pycharm": {
     "is_executing": false
    }
   },
   "outputs": [],
   "source": [
    "pd.set_option('display.max_rows', 500)\n",
    "pd.set_option('display.max_columns', 500)\n",
    "pd.set_option('display.width', 1000)"
   ]
  },
  {
   "cell_type": "code",
   "execution_count": 3,
   "metadata": {
    "pycharm": {
     "is_executing": false
    }
   },
   "outputs": [],
   "source": [
    "df_full = pd.read_csv(\"data/sap_storing_data_hu_project.csv\", low_memory=False)"
   ]
  },
  {
   "cell_type": "markdown",
   "metadata": {},
   "source": [
    "Kolommen gemarkeerd als 'nvt' of '?' worden verwijderd"
   ]
  },
  {
   "cell_type": "code",
   "execution_count": 4,
   "metadata": {
    "pycharm": {
     "is_executing": false
    }
   },
   "outputs": [],
   "source": [
    "nvt_columns = [\"stm_sap_mon_meld_ddt\", \"stm_mon_begin_ddt\", \"stm_mon_toelichting_trdl\",  \"stm_oh_pg_mld\",  \"stm_geo_mld_uit_functiepl\",  \"stm_scenario_mon\",  \"stm_status_melding_sap\",  \"stm_mon_nr_status_omschr\",  \"stm_mon_nr__statuscode\",  \"stm_mon_nr_status_wijzdd\",  \"stm_aanntpl_ddt\",  \"stm_geo_gst_uit_functiepl\",  \"stm_objectdl_code_gst\",  \"stm_objectdl_groep_gst\",  \"stm_progfh_in_ddt\",  \"stm_progfh_in_invoer_ddt\",  \"stm_progfh_gw_ddt\",  \"stm_progfh_gw_lwd_ddt\",  \"stm_progfh_hz\", \"stm_veroorz_groep\", \"stm_veroorz_code\", \"stm_veroorz_tekst_kort\", \"stm_effect\", \"stm_afspr_aanvangddt\", \"stm_mon_eind_ddt\", \"stm_mon_vhdsincident\", \"stm_dir_betrok_tr\", \"stm_aangelegd_dd\", \"stm_aangelegd_tijd\", \"stm_mon_begindatum\", \"stm_mon_begintijd\", \"stm_progfh_gw_datum\", \"stm_mon_eind_datum\", \"stm_mon_eind_tijd\", \"stm_controle_dd\", \"stm_akkoord_mon_toewijz\", \"stm_status_sapnaarmon\", \"stm_fact_jn\", \"stm_akkoord_melding_jn\", \"stm_afsluit_ddt\", \"stm_afsluit_dd\", \"stm_afsluit_tijd\", \"stm_rec_toegev_ddt\", \"stm_hinderwaarde\", \"stm_actie\", \"stm_standplaats\", \"stm_status_gebr\", \"stm_wbi_nummer\", \"stm_projnr\", \"stm_historie_toelichting\", \"stm_schade_verhaalb_jn\", \"stm_schadenr\", \"stm_schade_status_ga\", \"stm_schade_statusdatum\", \"stm_relatiervo_vorig\", \"stm_relatiervo_volgend\", \"stm_relatiervo\", \"stm_afspr_func_hersteldd\", \"stm_afspr_func_hersteltijd\", \"stm_sorteerveld\", \"stm_rapportage_maand\", \"stm_rapportage_jaar\", \"stm_x_bron_publ_dt\", \"stm_x_bron_bestandsnaam\", \"stm_x_bron_arch_dt\", \"stm_x_actueel_ind\", \"stm_x_run_id\", \"stm_x_bk\", \"stm_x_start_sessie_dt\", \"stm_x_vervallen_ind\", \"stm_evb\", \"stm_functiepl_mld\", \"stm_functiepl_gst\", \"stm_arbeid\", \"stm_progfh_in_duur\", \"stm_progfh_gw_lwd_datum\", \"stm_progfh_gw_lwd_tijd\", \"stm_progfh_gw_duur\", \"stm_afspr_aanvangdd\", \"stm_afspr_aanvangtijd\", \"stm_reactie_duur\"]\n",
    "\n",
    "for x in nvt_columns:\n",
    "    df_full.drop(x, axis=1, inplace=True)"
   ]
  },
  {
   "cell_type": "markdown",
   "metadata": {
    "pycharm": {
     "is_executing": false
    }
   },
   "source": [
    "Er word een nieuwe dataframe gemaakt met die alleen de kolommen bevat die wij int"
   ]
  },
  {
   "cell_type": "code",
   "execution_count": 143,
   "metadata": {
    "pycharm": {
     "is_executing": false
    },
    "scrolled": true
   },
   "outputs": [],
   "source": [
    "df = df_full[[\"stm_sap_meld_ddt\",  \"stm_geo_mld\",  \"stm_equipm_nr_mld\",  \"stm_equipm_soort_mld\",  \"stm_km_van_mld\",  \"stm_km_tot_mld\",  \"stm_prioriteit\",  \"stm_geo_gst\",  \"stm_oorz_code\",  \"stm_tao_indicator\",  \"stm_tao_indicator_vorige\",  \"stm_tao_soort_mutatie\",  \"stm_tao_telling_mutatie\",  \"stm_tao_beinvloedbaar_indicator\",  \"stm_sap_melddatum\",  \"stm_sap_meldtijd\",  \"stm_contractgeb_mld\",  \"stm_techn_mld\",  \"stm_techn_gst\",  \"stm_aanngeb_dd\",  \"stm_aanngeb_tijd\",  \"stm_aanntpl_dd\",  \"stm_aanntpl_tijd\", \"stm_sap_storeinddatum\", \"stm_sap_storeindtijd\"]]\n",
    "df = df[df.duplicated()]"
   ]
  },
  {
   "cell_type": "code",
   "execution_count": 142,
   "metadata": {
    "pycharm": {
     "is_executing": false
    }
   },
   "outputs": [],
   "source": [
    "# df.tail(20)"
   ]
  },
  {
   "cell_type": "markdown",
   "metadata": {},
   "source": [
    "strings naar datums converten"
   ]
  },
  {
   "cell_type": "code",
   "execution_count": 145,
   "metadata": {},
   "outputs": [],
   "source": [
    "# Date + Time combineren in DateTime\n",
    "df['stm_sap_storeind'] = pd.to_datetime(df['stm_sap_storeindtijd'] + ' ' + df['stm_sap_storeinddatum'],errors='coerce')\n",
    "df['stm_sap_meld'] = pd.to_datetime(df['stm_sap_meldtijd'] + ' ' + df['stm_sap_melddatum'],errors='coerce')\n",
    "df['stm_aanngeb'] = pd.to_datetime(df['stm_aanngeb_tijd'] + ' ' + df['stm_aanngeb_dd'])\n",
    "df['stm_aanntpl'] = pd.to_datetime(df['stm_aanntpl_tijd'] + ' ' + df['stm_aanntpl_dd'])\n",
    "\n",
    "# # Verkeerde/lege data droppen\n",
    "df = df.dropna(subset=['stm_sap_storeind'])\n",
    "df = df.dropna(subset=['stm_sap_meld'])"
   ]
  },
  {
   "cell_type": "code",
   "execution_count": 146,
   "metadata": {},
   "outputs": [],
   "source": [
    "# Oude kolommen droppen\n",
    "df.drop(columns=['stm_sap_storeinddatum','stm_sap_storeindtijd','stm_aanngeb_dd','stm_aanngeb_tijd','stm_aanntpl_dd','stm_aanntpl_tijd','stm_sap_melddatum','stm_sap_meldtijd'],inplace=True)"
   ]
  },
  {
   "cell_type": "markdown",
   "metadata": {},
   "source": [
    "objecten naar ints converten"
   ]
  },
  {
   "cell_type": "code",
   "execution_count": 148,
   "metadata": {},
   "outputs": [],
   "source": [
    "df['stm_km_van_mld'] = pd.to_numeric(df['stm_km_van_mld'])\n",
    "df['stm_km_tot_mld'] = pd.to_numeric(df['stm_km_tot_mld'])\n",
    "df['stm_prioriteit'] = pd.to_numeric(df['stm_prioriteit'])\n",
    "df['stm_km_tot_mld'] = pd.to_numeric(df['stm_km_tot_mld'])\n",
    "df['stm_km_tot_mld'] = pd.to_numeric(df['stm_km_tot_mld'])"
   ]
  },
  {
   "cell_type": "markdown",
   "metadata": {},
   "source": [
    "Time en Date collums combineren in datetime collumns"
   ]
  },
  {
   "cell_type": "code",
   "execution_count": 149,
   "metadata": {},
   "outputs": [
    {
     "data": {
      "text/plain": [
       "stm_sap_meld_ddt                           object\n",
       "stm_geo_mld                                object\n",
       "stm_equipm_nr_mld                         float64\n",
       "stm_equipm_soort_mld                       object\n",
       "stm_km_van_mld                            float64\n",
       "stm_km_tot_mld                            float64\n",
       "stm_prioriteit                            float64\n",
       "stm_geo_gst                                object\n",
       "stm_oorz_code                             float64\n",
       "stm_tao_indicator                          object\n",
       "stm_tao_indicator_vorige                   object\n",
       "stm_tao_soort_mutatie                      object\n",
       "stm_tao_telling_mutatie                     int64\n",
       "stm_tao_beinvloedbaar_indicator            object\n",
       "stm_contractgeb_mld                       float64\n",
       "stm_techn_mld                              object\n",
       "stm_techn_gst                              object\n",
       "stm_sap_storeind                   datetime64[ns]\n",
       "stm_sap_meld                       datetime64[ns]\n",
       "stm_aanngeb                        datetime64[ns]\n",
       "stm_aanntpl                        datetime64[ns]\n",
       "dtype: object"
      ]
     },
     "execution_count": 149,
     "metadata": {},
     "output_type": "execute_result"
    }
   ],
   "source": [
    "df.dtypes"
   ]
  },
  {
   "cell_type": "code",
   "execution_count": 151,
   "metadata": {},
   "outputs": [
    {
     "data": {
      "text/plain": [
       "Timedelta('-4 days +13:14:47.727576')"
      ]
     },
     "execution_count": 151,
     "metadata": {},
     "output_type": "execute_result"
    }
   ],
   "source": [
    "(df['stm_sap_meld']-df['stm_sap_storeind']).mean()"
   ]
  },
  {
   "cell_type": "code",
   "execution_count": 152,
   "metadata": {},
   "outputs": [
    {
     "data": {
      "text/html": [
       "<div>\n",
       "<style scoped>\n",
       "    .dataframe tbody tr th:only-of-type {\n",
       "        vertical-align: middle;\n",
       "    }\n",
       "\n",
       "    .dataframe tbody tr th {\n",
       "        vertical-align: top;\n",
       "    }\n",
       "\n",
       "    .dataframe thead th {\n",
       "        text-align: right;\n",
       "    }\n",
       "</style>\n",
       "<table border=\"1\" class=\"dataframe\">\n",
       "  <thead>\n",
       "    <tr style=\"text-align: right;\">\n",
       "      <th></th>\n",
       "      <th>stm_sap_meld_ddt</th>\n",
       "      <th>stm_geo_mld</th>\n",
       "      <th>stm_equipm_nr_mld</th>\n",
       "      <th>stm_equipm_soort_mld</th>\n",
       "      <th>stm_km_van_mld</th>\n",
       "      <th>stm_km_tot_mld</th>\n",
       "      <th>stm_prioriteit</th>\n",
       "      <th>stm_geo_gst</th>\n",
       "      <th>stm_oorz_code</th>\n",
       "      <th>stm_tao_indicator</th>\n",
       "      <th>stm_tao_indicator_vorige</th>\n",
       "      <th>stm_tao_soort_mutatie</th>\n",
       "      <th>stm_tao_telling_mutatie</th>\n",
       "      <th>stm_tao_beinvloedbaar_indicator</th>\n",
       "      <th>stm_contractgeb_mld</th>\n",
       "      <th>stm_techn_mld</th>\n",
       "      <th>stm_techn_gst</th>\n",
       "      <th>stm_sap_storeind</th>\n",
       "      <th>stm_sap_meld</th>\n",
       "      <th>stm_aanngeb</th>\n",
       "      <th>stm_aanntpl</th>\n",
       "    </tr>\n",
       "  </thead>\n",
       "  <tbody>\n",
       "    <tr>\n",
       "      <th>898491</th>\n",
       "      <td>10/05/2013 21:21:00</td>\n",
       "      <td>116.0</td>\n",
       "      <td>10590754.0</td>\n",
       "      <td>TUNCONSTR</td>\n",
       "      <td>39193.0</td>\n",
       "      <td>0.0</td>\n",
       "      <td>2.0</td>\n",
       "      <td>NaN</td>\n",
       "      <td>221.0</td>\n",
       "      <td>N</td>\n",
       "      <td>N</td>\n",
       "      <td>NaN</td>\n",
       "      <td>0</td>\n",
       "      <td>B</td>\n",
       "      <td>5.0</td>\n",
       "      <td>K</td>\n",
       "      <td>K</td>\n",
       "      <td>2013-10-05 21:35:00</td>\n",
       "      <td>2013-10-05 21:21:00</td>\n",
       "      <td>2013-10-05 21:21:00</td>\n",
       "      <td>2013-10-05 21:30:00</td>\n",
       "    </tr>\n",
       "    <tr>\n",
       "      <th>898512</th>\n",
       "      <td>11/05/2013 07:17:00</td>\n",
       "      <td>155.0</td>\n",
       "      <td>10761004.0</td>\n",
       "      <td>WISSEL</td>\n",
       "      <td>84270.0</td>\n",
       "      <td>0.0</td>\n",
       "      <td>4.0</td>\n",
       "      <td>155.0</td>\n",
       "      <td>298.0</td>\n",
       "      <td>N</td>\n",
       "      <td>N</td>\n",
       "      <td>NaN</td>\n",
       "      <td>0</td>\n",
       "      <td>B</td>\n",
       "      <td>71.0</td>\n",
       "      <td>B</td>\n",
       "      <td>S</td>\n",
       "      <td>2013-05-13 02:30:00</td>\n",
       "      <td>2013-11-05 07:17:00</td>\n",
       "      <td>2013-11-05 07:17:00</td>\n",
       "      <td>2013-05-13 01:00:00</td>\n",
       "    </tr>\n",
       "    <tr>\n",
       "      <th>898513</th>\n",
       "      <td>11/05/2013 07:17:00</td>\n",
       "      <td>155.0</td>\n",
       "      <td>10761004.0</td>\n",
       "      <td>WISSEL</td>\n",
       "      <td>84270.0</td>\n",
       "      <td>0.0</td>\n",
       "      <td>4.0</td>\n",
       "      <td>155.0</td>\n",
       "      <td>298.0</td>\n",
       "      <td>N</td>\n",
       "      <td>N</td>\n",
       "      <td>NaN</td>\n",
       "      <td>0</td>\n",
       "      <td>B</td>\n",
       "      <td>71.0</td>\n",
       "      <td>B</td>\n",
       "      <td>S</td>\n",
       "      <td>2013-05-13 02:30:00</td>\n",
       "      <td>2013-11-05 07:17:00</td>\n",
       "      <td>2013-11-05 07:17:00</td>\n",
       "      <td>2013-05-13 01:00:00</td>\n",
       "    </tr>\n",
       "    <tr>\n",
       "      <th>898514</th>\n",
       "      <td>11/05/2013 07:17:00</td>\n",
       "      <td>155.0</td>\n",
       "      <td>10761004.0</td>\n",
       "      <td>WISSEL</td>\n",
       "      <td>84270.0</td>\n",
       "      <td>0.0</td>\n",
       "      <td>4.0</td>\n",
       "      <td>155.0</td>\n",
       "      <td>298.0</td>\n",
       "      <td>N</td>\n",
       "      <td>N</td>\n",
       "      <td>NaN</td>\n",
       "      <td>0</td>\n",
       "      <td>B</td>\n",
       "      <td>71.0</td>\n",
       "      <td>B</td>\n",
       "      <td>S</td>\n",
       "      <td>2013-05-13 02:30:00</td>\n",
       "      <td>2013-11-05 07:17:00</td>\n",
       "      <td>2013-11-05 07:17:00</td>\n",
       "      <td>2013-05-13 01:00:00</td>\n",
       "    </tr>\n",
       "    <tr>\n",
       "      <th>898515</th>\n",
       "      <td>11/05/2013 07:17:00</td>\n",
       "      <td>155.0</td>\n",
       "      <td>10761004.0</td>\n",
       "      <td>WISSEL</td>\n",
       "      <td>84270.0</td>\n",
       "      <td>0.0</td>\n",
       "      <td>4.0</td>\n",
       "      <td>155.0</td>\n",
       "      <td>298.0</td>\n",
       "      <td>N</td>\n",
       "      <td>N</td>\n",
       "      <td>NaN</td>\n",
       "      <td>0</td>\n",
       "      <td>B</td>\n",
       "      <td>71.0</td>\n",
       "      <td>B</td>\n",
       "      <td>S</td>\n",
       "      <td>2013-05-13 02:30:00</td>\n",
       "      <td>2013-11-05 07:17:00</td>\n",
       "      <td>2013-11-05 07:17:00</td>\n",
       "      <td>2013-05-13 01:00:00</td>\n",
       "    </tr>\n",
       "  </tbody>\n",
       "</table>\n",
       "</div>"
      ],
      "text/plain": [
       "           stm_sap_meld_ddt stm_geo_mld  stm_equipm_nr_mld stm_equipm_soort_mld  stm_km_van_mld  stm_km_tot_mld  stm_prioriteit stm_geo_gst  stm_oorz_code stm_tao_indicator stm_tao_indicator_vorige stm_tao_soort_mutatie  stm_tao_telling_mutatie stm_tao_beinvloedbaar_indicator  stm_contractgeb_mld stm_techn_mld stm_techn_gst    stm_sap_storeind        stm_sap_meld         stm_aanngeb         stm_aanntpl\n",
       "898491  10/05/2013 21:21:00       116.0         10590754.0            TUNCONSTR         39193.0             0.0             2.0         NaN          221.0                 N                        N                   NaN                        0                               B                  5.0             K             K 2013-10-05 21:35:00 2013-10-05 21:21:00 2013-10-05 21:21:00 2013-10-05 21:30:00\n",
       "898512  11/05/2013 07:17:00       155.0         10761004.0               WISSEL         84270.0             0.0             4.0       155.0          298.0                 N                        N                   NaN                        0                               B                 71.0             B             S 2013-05-13 02:30:00 2013-11-05 07:17:00 2013-11-05 07:17:00 2013-05-13 01:00:00\n",
       "898513  11/05/2013 07:17:00       155.0         10761004.0               WISSEL         84270.0             0.0             4.0       155.0          298.0                 N                        N                   NaN                        0                               B                 71.0             B             S 2013-05-13 02:30:00 2013-11-05 07:17:00 2013-11-05 07:17:00 2013-05-13 01:00:00\n",
       "898514  11/05/2013 07:17:00       155.0         10761004.0               WISSEL         84270.0             0.0             4.0       155.0          298.0                 N                        N                   NaN                        0                               B                 71.0             B             S 2013-05-13 02:30:00 2013-11-05 07:17:00 2013-11-05 07:17:00 2013-05-13 01:00:00\n",
       "898515  11/05/2013 07:17:00       155.0         10761004.0               WISSEL         84270.0             0.0             4.0       155.0          298.0                 N                        N                   NaN                        0                               B                 71.0             B             S 2013-05-13 02:30:00 2013-11-05 07:17:00 2013-11-05 07:17:00 2013-05-13 01:00:00"
      ]
     },
     "execution_count": 152,
     "metadata": {},
     "output_type": "execute_result"
    }
   ],
   "source": [
    "df.tail()"
   ]
  },
  {
   "cell_type": "code",
   "execution_count": null,
   "metadata": {},
   "outputs": [],
   "source": []
  }
 ],
 "metadata": {
  "kernelspec": {
   "display_name": "Python 3",
   "language": "python",
   "name": "python3"
  },
  "language_info": {
   "codemirror_mode": {
    "name": "ipython",
    "version": 3
   },
   "file_extension": ".py",
   "mimetype": "text/x-python",
   "name": "python",
   "nbconvert_exporter": "python",
   "pygments_lexer": "ipython3",
   "version": "3.7.5"
  },
  "pycharm": {
   "stem_cell": {
    "cell_type": "raw",
    "metadata": {
     "collapsed": false
    },
    "source": []
   }
  }
 },
 "nbformat": 4,
 "nbformat_minor": 2
}
