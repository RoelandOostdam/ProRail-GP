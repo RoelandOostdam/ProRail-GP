{
 "cells": [
  {
   "cell_type": "code",
   "execution_count": 1,
   "metadata": {
    "pycharm": {
     "is_executing": true
    }
   },
   "outputs": [],
   "source": [
    "import numpy as np\n",
    "import pandas as pd\n",
    "import matplotlib.pyplot as plt"
   ]
  },
  {
   "cell_type": "markdown",
   "metadata": {},
   "source": [
    "Voor een betere display met `head()`"
   ]
  },
  {
   "cell_type": "code",
   "execution_count": 2,
   "metadata": {
    "pycharm": {
     "is_executing": true
    }
   },
   "outputs": [],
   "source": [
    "pd.set_option('display.max_rows', 500)\n",
    "pd.set_option('display.max_columns', 500)\n",
    "pd.set_option('display.width', 1000)"
   ]
  },
  {
   "cell_type": "code",
   "execution_count": 7,
   "metadata": {
    "pycharm": {
     "is_executing": true
    }
   },
   "outputs": [],
   "source": [
    "df_full = pd.read_csv(\"data/sap_storing_data_hu_project.csv\", low_memory=False)"
   ]
  },
  {
   "cell_type": "markdown",
   "metadata": {},
   "source": [
    "Kolommen gemarkeerd als 'nvt' of '?' worden verwijderd"
   ]
  },
  {
   "cell_type": "code",
   "execution_count": 8,
   "metadata": {
    "pycharm": {
     "is_executing": true
    }
   },
   "outputs": [],
   "source": [
    "nvt_columns = [\"stm_sap_mon_meld_ddt\", \"stm_mon_begin_ddt\", \"stm_mon_toelichting_trdl\",  \"stm_oh_pg_mld\",  \"stm_geo_mld_uit_functiepl\",  \"stm_scenario_mon\",  \"stm_status_melding_sap\",  \"stm_mon_nr_status_omschr\",  \"stm_mon_nr__statuscode\",  \"stm_mon_nr_status_wijzdd\",  \"stm_aanntpl_ddt\",  \"stm_geo_gst_uit_functiepl\",  \"stm_objectdl_code_gst\",  \"stm_objectdl_groep_gst\",  \"stm_progfh_in_ddt\",  \"stm_progfh_in_invoer_ddt\",  \"stm_progfh_gw_ddt\",  \"stm_progfh_gw_lwd_ddt\",  \"stm_progfh_hz\", \"stm_veroorz_groep\", \"stm_veroorz_code\", \"stm_veroorz_tekst_kort\", \"stm_effect\", \"stm_afspr_aanvangddt\", \"stm_mon_eind_ddt\", \"stm_mon_vhdsincident\", \"stm_dir_betrok_tr\", \"stm_aangelegd_dd\", \"stm_aangelegd_tijd\", \"stm_mon_begindatum\", \"stm_mon_begintijd\", \"stm_progfh_gw_datum\", \"stm_mon_eind_datum\", \"stm_mon_eind_tijd\", \"stm_controle_dd\", \"stm_akkoord_mon_toewijz\", \"stm_status_sapnaarmon\", \"stm_fact_jn\", \"stm_akkoord_melding_jn\", \"stm_afsluit_ddt\", \"stm_afsluit_dd\", \"stm_afsluit_tijd\", \"stm_rec_toegev_ddt\", \"stm_hinderwaarde\", \"stm_actie\", \"stm_standplaats\", \"stm_status_gebr\", \"stm_wbi_nummer\", \"stm_projnr\", \"stm_historie_toelichting\", \"stm_schade_verhaalb_jn\", \"stm_schadenr\", \"stm_schade_status_ga\", \"stm_schade_statusdatum\", \"stm_relatiervo_vorig\", \"stm_relatiervo_volgend\", \"stm_relatiervo\", \"stm_afspr_func_hersteldd\", \"stm_afspr_func_hersteltijd\", \"stm_sorteerveld\", \"stm_rapportage_maand\", \"stm_rapportage_jaar\", \"stm_x_bron_publ_dt\", \"stm_x_bron_bestandsnaam\", \"stm_x_bron_arch_dt\", \"stm_x_actueel_ind\", \"stm_x_run_id\", \"stm_x_bk\", \"stm_x_start_sessie_dt\", \"stm_x_vervallen_ind\", \"stm_evb\", \"stm_functiepl_mld\", \"stm_functiepl_gst\", \"stm_arbeid\", \"stm_progfh_in_duur\", \"stm_progfh_gw_lwd_datum\", \"stm_progfh_gw_lwd_tijd\", \"stm_progfh_gw_duur\", \"stm_afspr_aanvangdd\", \"stm_afspr_aanvangtijd\", \"stm_reactie_duur\"]\n",
    "\n",
    "for x in nvt_columns:\n",
    "    df_full.drop(x, axis=1, inplace=True)"
   ]
  },
  {
   "cell_type": "markdown",
   "metadata": {
    "pycharm": {
     "is_executing": false
    }
   },
   "source": [
    "Er word een nieuwe dataframe gemaakt met die alleen de kolommen bevat die wij int"
   ]
  },
  {
   "cell_type": "code",
   "execution_count": 9,
   "metadata": {
    "pycharm": {
     "is_executing": true
    },
    "scrolled": true
   },
   "outputs": [],
   "source": [
    "df = df_full[[\"stm_fh_duur\", \"stm_sap_meld_ddt\",  \"stm_geo_mld\",  \"stm_equipm_nr_mld\",  \"stm_equipm_soort_mld\",  \"stm_km_van_mld\",  \"stm_km_tot_mld\",  \"stm_prioriteit\",  \"stm_geo_gst\",  \"stm_oorz_code\",  \"stm_tao_indicator\",  \"stm_tao_indicator_vorige\",  \"stm_tao_soort_mutatie\",  \"stm_tao_telling_mutatie\",  \"stm_tao_beinvloedbaar_indicator\",  \"stm_sap_melddatum\",  \"stm_sap_meldtijd\",  \"stm_contractgeb_mld\",  \"stm_techn_mld\",  \"stm_techn_gst\",  \"stm_aanngeb_dd\",  \"stm_aanngeb_tijd\",  \"stm_aanntpl_dd\",  \"stm_aanntpl_tijd\", \"stm_sap_storeinddatum\", \"stm_sap_storeindtijd\"]]"
   ]
  },
  {
   "cell_type": "code",
   "execution_count": 10,
   "metadata": {
    "pycharm": {
     "is_executing": true
    }
   },
   "outputs": [],
   "source": [
    "# df.tail(20)"
   ]
  },
  {
   "cell_type": "markdown",
   "metadata": {},
   "source": [
    "strings naar datums converten"
   ]
  },
  {
   "cell_type": "code",
   "execution_count": null,
   "metadata": {},
   "outputs": [
    {
     "name": "stderr",
     "output_type": "stream",
     "text": [
      "c:\\users\\roela\\appdata\\local\\programs\\python\\python37\\lib\\site-packages\\ipykernel_launcher.py:2: SettingWithCopyWarning: \n",
      "A value is trying to be set on a copy of a slice from a DataFrame.\n",
      "Try using .loc[row_indexer,col_indexer] = value instead\n",
      "\n",
      "See the caveats in the documentation: http://pandas.pydata.org/pandas-docs/stable/user_guide/indexing.html#returning-a-view-versus-a-copy\n",
      "  \n"
     ]
    }
   ],
   "source": [
    "# df['stm_sap_storeindtijd'][df['stm_sap_storeindtijd']==\":\"].count()\n",
    "df['stm_sap_storeindtijd'].replace(\":\",\"\",inplace=True)\n",
    "pd.to_datetime(df['stm_sap_storeindtijd'])\n",
    "df['stm_sap_storeindtijd'].head(10)"
   ]
  },
  {
   "cell_type": "code",
   "execution_count": null,
   "metadata": {
    "pycharm": {
     "is_executing": true
    }
   },
   "outputs": [],
   "source": [
    "# Date + Time combineren in DateTime\n",
    "df['stm_sap_storeind'] = pd.to_datetime(df['stm_sap_storeindtijd'] + ' ' + df['stm_sap_storeinddatum'])\n",
    "df['stm_sap_meld'] = pd.to_datetime(df['stm_sap_meldtijd'] + ' ' + df['stm_sap_melddatum'])\n",
    "df['stm_aanngeb'] = pd.to_datetime(df['stm_aanngeb_tijd'] + ' ' + df['stm_aanngeb_dd'])\n",
    "df['stm_aanntpl'] = pd.to_datetime(df['stm_aanntpl_tijd'] + ' ' + df['stm_aanntpl_dd'])\n",
    "\n",
    "# # Verkeerde/lege data droppen\n",
    "# df = df.dropna(subset=['stm_sap_storeind'])\n",
    "# df = df.dropna(subset=['stm_sap_meld'])"
   ]
  },
  {
   "cell_type": "code",
   "execution_count": null,
   "metadata": {
    "pycharm": {
     "is_executing": true
    }
   },
   "outputs": [],
   "source": [
    "# Oude kolommen droppen\n",
    "df.drop(columns=['stm_sap_storeinddatum','stm_sap_storeindtijd','stm_aanngeb_dd','stm_aanngeb_tijd','stm_aanntpl_dd','stm_aanntpl_tijd','stm_sap_melddatum','stm_sap_meldtijd','stm_km_van_mld','stm_km_tot_mld'],inplace=True)"
   ]
  },
  {
   "cell_type": "markdown",
   "metadata": {},
   "source": [
    "objecten naar ints converten"
   ]
  },
  {
   "cell_type": "code",
   "execution_count": null,
   "metadata": {
    "pycharm": {
     "is_executing": true
    }
   },
   "outputs": [],
   "source": [
    "df['stm_prioriteit'] = pd.to_numeric(df['stm_prioriteit'])\n",
    "df['stm_geo_gst'] = pd.to_numeric(df['stm_geo_gst'])\n",
    "df['stm_geo_mld'] = pd.to_numeric(df['stm_geo_mld'])\n",
    "df['stm_fh_duur'] = pd.to_numeric(df['stm_fh_duur'])\n",
    "\n",
    "# df['stm_techn_gst'] = pd.Categorical(df['stm_techn_gst'])"
   ]
  },
  {
   "cell_type": "markdown",
   "metadata": {},
   "source": [
    "Time en Date collums combineren in datetime collumns"
   ]
  },
  {
   "cell_type": "code",
   "execution_count": null,
   "metadata": {
    "pycharm": {
     "is_executing": true
    }
   },
   "outputs": [],
   "source": [
    "df.dtypes"
   ]
  },
  {
   "cell_type": "code",
   "execution_count": null,
   "metadata": {
    "pycharm": {
     "is_executing": true
    }
   },
   "outputs": [],
   "source": [
    "(df['stm_sap_storeind']-df['stm_sap_meld']).median()"
   ]
  },
  {
   "cell_type": "code",
   "execution_count": null,
   "metadata": {
    "pycharm": {
     "is_executing": true
    }
   },
   "outputs": [],
   "source": [
    "df.head()"
   ]
  },
  {
   "cell_type": "code",
   "execution_count": null,
   "metadata": {
    "pycharm": {
     "is_executing": true
    }
   },
   "outputs": [],
   "source": [
    "df.describe()"
   ]
  },
  {
   "cell_type": "markdown",
   "metadata": {},
   "source": [
    "### Baseline\n",
    "\n",
    "Er word een gemmidelde duratie van de storingen gezocht."
   ]
  },
  {
   "cell_type": "code",
   "execution_count": null,
   "metadata": {
    "pycharm": {
     "is_executing": true
    }
   },
   "outputs": [],
   "source": [
    "df['delta_storeind_meld'] = df['stm_sap_storeind'] - df['stm_sap_meld']\n",
    "df['delta_storeind_meld'] = df['delta_storeind_meld'].astype('timedelta64[m]')\n",
    "df['delta_storeind_meld'].describe()\n",
    "\n",
    "df['delta_storeind_meld'] = df['delta_storeind_meld'][df['delta_storeind_meld'].between(0, 360)]"
   ]
  },
  {
   "cell_type": "code",
   "execution_count": null,
   "metadata": {
    "pycharm": {
     "is_executing": true
    }
   },
   "outputs": [],
   "source": [
    "tech_fields_averages = {};\n",
    "for tech_field in df['stm_techn_gst'].unique():\n",
    "    tech_fields_averages[tech_field]=(df[df['stm_techn_gst']==tech_field]['delta_storeind_meld'].mean())\n",
    "    \n",
    "tech_fields_averages['nan']=df['delta_storeind_meld'][df['stm_techn_mld'].isna()].mean()\n",
    "\n",
    "tech_fields_averages"
   ]
  },
  {
   "cell_type": "code",
   "execution_count": null,
   "metadata": {
    "pycharm": {
     "is_executing": true
    }
   },
   "outputs": [],
   "source": [
    "df['techniek_gem_duur'] = df['stm_techn_gst']\n",
    "for tech_field in df['stm_techn_gst'].unique():\n",
    "    df['techniek_gem_duur'] = df['techniek_gem_duur'].replace(tech_field,tech_fields_averages[tech_field])\n",
    "    \n",
    "df['techniek_gem_duur'] = df['techniek_gem_duur'].fillna(tech_fields_averages['nan'])"
   ]
  },
  {
   "cell_type": "markdown",
   "metadata": {},
   "source": [
    "We zien dat er wat extreme waardes tussen zitten. Zo hebben we een storing die maarliefst 1,89 jaar duurt, en minstens een met een negatieve duur (waarschijnlijk omdat `stm_sap_meld` onbreekt).\n",
    "\n",
    "Storingen die langer dan 8 uur duren beschouwen wij als 'speciale' gevallen, en vinden wij niet interessant voor ons doel om algemenere storingen te voorspellen. Waardes die terug de tijd in gaan vinden we interessant doch irrelevant voor de questie."
   ]
  },
  {
   "cell_type": "code",
   "execution_count": null,
   "metadata": {
    "pycharm": {
     "is_executing": true
    }
   },
   "outputs": [],
   "source": [
    "#df_full.loc[df['delta_storeind_meld'].idxmin()]"
   ]
  },
  {
   "cell_type": "markdown",
   "metadata": {},
   "source": [
    "# Lineare regressie"
   ]
  },
  {
   "cell_type": "code",
   "execution_count": null,
   "metadata": {
    "pycharm": {
     "is_executing": true
    }
   },
   "outputs": [],
   "source": [
    "# df['stm_techn_gst'].value_counts()\n",
    "df.count()"
   ]
  },
  {
   "cell_type": "code",
   "execution_count": null,
   "metadata": {
    "pycharm": {
     "is_executing": true
    }
   },
   "outputs": [],
   "source": [
    "df.hist(figsize=[15,10])"
   ]
  },
  {
   "cell_type": "code",
   "execution_count": null,
   "metadata": {
    "pycharm": {
     "is_executing": true
    }
   },
   "outputs": [],
   "source": [
    "from sklearn.linear_model import LinearRegression\n",
    "from sklearn.model_selection import train_test_split\n",
    "\n",
    "from math import sqrt\n",
    "from sklearn.metrics import mean_squared_error\n",
    "\n",
    "from sklearn.tree import DecisionTreeClassifier\n",
    "from sklearn import tree"
   ]
  },
  {
   "cell_type": "code",
   "execution_count": null,
   "metadata": {},
   "outputs": [],
   "source": [
    "df['stm_fh_duur'].isna()"
   ]
  },
  {
   "cell_type": "code",
   "execution_count": null,
   "metadata": {
    "pycharm": {
     "is_executing": true
    }
   },
   "outputs": [],
   "source": [
    "X = df[['techniek_gem_duur']]\n",
    "y = df['stm_fh_duur']\n",
    "\n",
    "X_train, X_test, y_train, y_test = train_test_split(X,y, random_state=0)\n",
    "print('Aantal trainwaarden {0:d}'.format(len(X_train)))\n",
    "print('Aantal testwaarden {0:d}'.format(len(y_test)))"
   ]
  },
  {
   "cell_type": "code",
   "execution_count": null,
   "metadata": {
    "pycharm": {
     "is_executing": true
    }
   },
   "outputs": [],
   "source": [
    "# tree_classifier = DecisionTreeClassifier(random_state=0).fit(X, y)\n",
    "linear_classifier = LinearRegression().fit(X, y)\n",
    "\n",
    "# print(\"tree_classifier Score  :\",tree_classifier.score(X, y))\n",
    "print(\"linear_classifier Score:\",linear_classifier.score(X, y))\n",
    "\n",
    "# print(\"tree_classifier RMSE   :\",sqrt(mean_squared_error(y_test, tree_classifier.predict(X_test))))\n",
    "print(\"linear_classifier RMSE :\",sqrt(mean_squared_error(y_test, linear_classifier.predict(X_test))))"
   ]
  },
  {
   "cell_type": "code",
   "execution_count": null,
   "metadata": {
    "pycharm": {
     "is_executing": true
    }
   },
   "outputs": [],
   "source": []
  },
  {
   "cell_type": "code",
   "execution_count": null,
   "metadata": {
    "pycharm": {
     "is_executing": true
    }
   },
   "outputs": [],
   "source": [
    "# df.plot.scatter('stm_techn_gst','delta_storeind_meld')"
   ]
  },
  {
   "cell_type": "code",
   "execution_count": null,
   "metadata": {
    "pycharm": {
     "is_executing": true
    }
   },
   "outputs": [],
   "source": []
  }
 ],
 "metadata": {
  "kernelspec": {
   "display_name": "Python 3",
   "language": "python",
   "name": "python3"
  },
  "language_info": {
   "codemirror_mode": {
    "name": "ipython",
    "version": 3
   },
   "file_extension": ".py",
   "mimetype": "text/x-python",
   "name": "python",
   "nbconvert_exporter": "python",
   "pygments_lexer": "ipython3",
   "version": "3.7.5"
  },
  "pycharm": {
   "stem_cell": {
    "cell_type": "raw",
    "metadata": {
     "collapsed": false
    },
    "source": []
   }
  }
 },
 "nbformat": 4,
 "nbformat_minor": 2
}
