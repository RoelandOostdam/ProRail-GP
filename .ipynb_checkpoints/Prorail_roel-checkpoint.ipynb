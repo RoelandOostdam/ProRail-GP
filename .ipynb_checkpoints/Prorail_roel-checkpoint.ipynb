{
 "cells": [
  {
   "cell_type": "code",
   "execution_count": 1,
   "metadata": {
    "pycharm": {
     "is_executing": true
    }
   },
   "outputs": [],
   "source": [
    "import numpy as np\n",
    "import pandas as pd\n",
    "import matplotlib.pyplot as plt"
   ]
  },
  {
   "cell_type": "markdown",
   "metadata": {},
   "source": [
    "Voor een betere display met `head()`"
   ]
  },
  {
   "cell_type": "code",
   "execution_count": 2,
   "metadata": {
    "pycharm": {
     "is_executing": true
    }
   },
   "outputs": [],
   "source": [
    "pd.set_option('display.max_rows', 500)\n",
    "pd.set_option('display.max_columns', 500)\n",
    "pd.set_option('display.width', 1000)"
   ]
  },
  {
   "cell_type": "code",
   "execution_count": 3,
   "metadata": {
    "pycharm": {
     "is_executing": true
    }
   },
   "outputs": [],
   "source": [
    "df_full = pd.read_csv(\"data/sap_storing_data_hu_project.csv\", low_memory=False)"
   ]
  },
  {
   "cell_type": "markdown",
   "metadata": {},
   "source": [
    "Kolommen gemarkeerd als 'nvt' of '?' worden verwijderd"
   ]
  },
  {
   "cell_type": "code",
   "execution_count": 4,
   "metadata": {
    "pycharm": {
     "is_executing": true
    }
   },
   "outputs": [],
   "source": [
    "nvt_columns = [\"stm_sap_mon_meld_ddt\", \"stm_mon_begin_ddt\", \"stm_mon_toelichting_trdl\",  \"stm_oh_pg_mld\",  \"stm_geo_mld_uit_functiepl\",  \"stm_scenario_mon\",  \"stm_status_melding_sap\",  \"stm_mon_nr_status_omschr\",  \"stm_mon_nr__statuscode\",  \"stm_mon_nr_status_wijzdd\",  \"stm_aanntpl_ddt\",  \"stm_geo_gst_uit_functiepl\",  \"stm_objectdl_code_gst\",  \"stm_objectdl_groep_gst\",  \"stm_progfh_in_ddt\",  \"stm_progfh_in_invoer_ddt\",  \"stm_progfh_gw_ddt\",  \"stm_progfh_gw_lwd_ddt\",  \"stm_progfh_hz\", \"stm_veroorz_groep\", \"stm_veroorz_code\", \"stm_veroorz_tekst_kort\", \"stm_effect\", \"stm_afspr_aanvangddt\", \"stm_mon_eind_ddt\", \"stm_mon_vhdsincident\", \"stm_dir_betrok_tr\", \"stm_aangelegd_dd\", \"stm_aangelegd_tijd\", \"stm_mon_begindatum\", \"stm_mon_begintijd\", \"stm_progfh_gw_datum\", \"stm_mon_eind_datum\", \"stm_mon_eind_tijd\", \"stm_controle_dd\", \"stm_akkoord_mon_toewijz\", \"stm_status_sapnaarmon\", \"stm_fact_jn\", \"stm_akkoord_melding_jn\", \"stm_afsluit_ddt\", \"stm_afsluit_dd\", \"stm_afsluit_tijd\", \"stm_rec_toegev_ddt\", \"stm_hinderwaarde\", \"stm_actie\", \"stm_standplaats\", \"stm_status_gebr\", \"stm_wbi_nummer\", \"stm_projnr\", \"stm_historie_toelichting\", \"stm_schade_verhaalb_jn\", \"stm_schadenr\", \"stm_schade_status_ga\", \"stm_schade_statusdatum\", \"stm_relatiervo_vorig\", \"stm_relatiervo_volgend\", \"stm_relatiervo\", \"stm_afspr_func_hersteldd\", \"stm_afspr_func_hersteltijd\", \"stm_sorteerveld\", \"stm_rapportage_maand\", \"stm_rapportage_jaar\", \"stm_x_bron_publ_dt\", \"stm_x_bron_bestandsnaam\", \"stm_x_bron_arch_dt\", \"stm_x_actueel_ind\", \"stm_x_run_id\", \"stm_x_bk\", \"stm_x_start_sessie_dt\", \"stm_x_vervallen_ind\", \"stm_evb\", \"stm_functiepl_mld\", \"stm_functiepl_gst\", \"stm_arbeid\", \"stm_progfh_in_duur\", \"stm_progfh_gw_lwd_datum\", \"stm_progfh_gw_lwd_tijd\", \"stm_progfh_gw_duur\", \"stm_afspr_aanvangdd\", \"stm_afspr_aanvangtijd\", \"stm_reactie_duur\"]\n",
    "\n",
    "for x in nvt_columns:\n",
    "    df_full.drop(x, axis=1, inplace=True)"
   ]
  },
  {
   "cell_type": "markdown",
   "metadata": {
    "pycharm": {
     "is_executing": false
    }
   },
   "source": [
    "Er word een nieuwe dataframe gemaakt met die alleen de kolommen bevat die wij int"
   ]
  },
  {
   "cell_type": "code",
   "execution_count": 5,
   "metadata": {
    "pycharm": {
     "is_executing": true
    },
    "scrolled": true
   },
   "outputs": [],
   "source": [
    "df = df_full[[\"stm_sap_meld_ddt\",  \"stm_geo_mld\",  \"stm_equipm_nr_mld\",  \"stm_equipm_soort_mld\",  \"stm_km_van_mld\",  \"stm_km_tot_mld\",  \"stm_prioriteit\",  \"stm_geo_gst\",  \"stm_oorz_code\",  \"stm_tao_indicator\",  \"stm_tao_indicator_vorige\",  \"stm_tao_soort_mutatie\",  \"stm_tao_telling_mutatie\",  \"stm_tao_beinvloedbaar_indicator\",  \"stm_sap_melddatum\",  \"stm_sap_meldtijd\",  \"stm_contractgeb_mld\",  \"stm_techn_mld\",  \"stm_techn_gst\",  \"stm_aanngeb_dd\",  \"stm_aanngeb_tijd\",  \"stm_aanntpl_dd\",  \"stm_aanntpl_tijd\", \"stm_sap_storeinddatum\", \"stm_sap_storeindtijd\"]]\n",
    "df = df[df.duplicated()]"
   ]
  },
  {
   "cell_type": "code",
   "execution_count": 6,
   "metadata": {
    "pycharm": {
     "is_executing": true
    }
   },
   "outputs": [],
   "source": [
    "# df.tail(20)"
   ]
  },
  {
   "cell_type": "markdown",
   "metadata": {},
   "source": [
    "strings naar datums converten"
   ]
  },
  {
   "cell_type": "code",
   "execution_count": 7,
   "metadata": {
    "pycharm": {
     "is_executing": true
    }
   },
   "outputs": [],
   "source": [
    "# Date + Time combineren in DateTime\n",
    "df['stm_sap_storeind'] = pd.to_datetime(df['stm_sap_storeindtijd'] + ' ' + df['stm_sap_storeinddatum'],errors='coerce')\n",
    "df['stm_sap_meld'] = pd.to_datetime(df['stm_sap_meldtijd'] + ' ' + df['stm_sap_melddatum'],errors='coerce')\n",
    "df['stm_aanngeb'] = pd.to_datetime(df['stm_aanngeb_tijd'] + ' ' + df['stm_aanngeb_dd'])\n",
    "df['stm_aanntpl'] = pd.to_datetime(df['stm_aanntpl_tijd'] + ' ' + df['stm_aanntpl_dd'])\n",
    "\n",
    "# # Verkeerde/lege data droppen\n",
    "df = df.dropna(subset=['stm_sap_storeind'])\n",
    "df = df.dropna(subset=['stm_sap_meld'])"
   ]
  },
  {
   "cell_type": "code",
   "execution_count": 8,
   "metadata": {
    "pycharm": {
     "is_executing": true
    }
   },
   "outputs": [],
   "source": [
    "# Oude kolommen droppen\n",
    "df.drop(columns=['stm_sap_storeinddatum','stm_sap_storeindtijd','stm_aanngeb_dd','stm_aanngeb_tijd','stm_aanntpl_dd','stm_aanntpl_tijd','stm_sap_melddatum','stm_sap_meldtijd','stm_km_van_mld','stm_km_tot_mld'],inplace=True)"
   ]
  },
  {
   "cell_type": "markdown",
   "metadata": {},
   "source": [
    "objecten naar ints converten"
   ]
  },
  {
   "cell_type": "code",
   "execution_count": 9,
   "metadata": {
    "pycharm": {
     "is_executing": true
    }
   },
   "outputs": [],
   "source": [
    "df['stm_prioriteit'] = pd.to_numeric(df['stm_prioriteit'])\n",
    "df['stm_geo_gst'] = pd.to_numeric(df['stm_geo_gst'])\n",
    "df['stm_geo_mld'] = pd.to_numeric(df['stm_geo_mld'])\n",
    "\n",
    "# df['stm_techn_gst'] = pd.Categorical(df['stm_techn_gst'])"
   ]
  },
  {
   "cell_type": "markdown",
   "metadata": {},
   "source": [
    "Time en Date collums combineren in datetime collumns"
   ]
  },
  {
   "cell_type": "code",
   "execution_count": 10,
   "metadata": {
    "pycharm": {
     "is_executing": true
    }
   },
   "outputs": [
    {
     "data": {
      "text/plain": [
       "stm_sap_meld_ddt                           object\n",
       "stm_geo_mld                               float64\n",
       "stm_equipm_nr_mld                         float64\n",
       "stm_equipm_soort_mld                       object\n",
       "stm_prioriteit                            float64\n",
       "stm_geo_gst                               float64\n",
       "stm_oorz_code                             float64\n",
       "stm_tao_indicator                          object\n",
       "stm_tao_indicator_vorige                   object\n",
       "stm_tao_soort_mutatie                      object\n",
       "stm_tao_telling_mutatie                     int64\n",
       "stm_tao_beinvloedbaar_indicator            object\n",
       "stm_contractgeb_mld                       float64\n",
       "stm_techn_mld                              object\n",
       "stm_techn_gst                              object\n",
       "stm_sap_storeind                   datetime64[ns]\n",
       "stm_sap_meld                       datetime64[ns]\n",
       "stm_aanngeb                        datetime64[ns]\n",
       "stm_aanntpl                        datetime64[ns]\n",
       "dtype: object"
      ]
     },
     "execution_count": 10,
     "metadata": {},
     "output_type": "execute_result"
    }
   ],
   "source": [
    "df.dtypes"
   ]
  },
  {
   "cell_type": "code",
   "execution_count": 11,
   "metadata": {
    "pycharm": {
     "is_executing": true
    }
   },
   "outputs": [
    {
     "data": {
      "text/plain": [
       "Timedelta('0 days 03:50:00')"
      ]
     },
     "execution_count": 11,
     "metadata": {},
     "output_type": "execute_result"
    }
   ],
   "source": [
    "(df['stm_sap_storeind']-df['stm_sap_meld']).median()"
   ]
  },
  {
   "cell_type": "code",
   "execution_count": 12,
   "metadata": {
    "pycharm": {
     "is_executing": true
    }
   },
   "outputs": [
    {
     "data": {
      "text/html": [
       "<div>\n",
       "<style scoped>\n",
       "    .dataframe tbody tr th:only-of-type {\n",
       "        vertical-align: middle;\n",
       "    }\n",
       "\n",
       "    .dataframe tbody tr th {\n",
       "        vertical-align: top;\n",
       "    }\n",
       "\n",
       "    .dataframe thead th {\n",
       "        text-align: right;\n",
       "    }\n",
       "</style>\n",
       "<table border=\"1\" class=\"dataframe\">\n",
       "  <thead>\n",
       "    <tr style=\"text-align: right;\">\n",
       "      <th></th>\n",
       "      <th>stm_sap_meld_ddt</th>\n",
       "      <th>stm_geo_mld</th>\n",
       "      <th>stm_equipm_nr_mld</th>\n",
       "      <th>stm_equipm_soort_mld</th>\n",
       "      <th>stm_prioriteit</th>\n",
       "      <th>stm_geo_gst</th>\n",
       "      <th>stm_oorz_code</th>\n",
       "      <th>stm_tao_indicator</th>\n",
       "      <th>stm_tao_indicator_vorige</th>\n",
       "      <th>stm_tao_soort_mutatie</th>\n",
       "      <th>stm_tao_telling_mutatie</th>\n",
       "      <th>stm_tao_beinvloedbaar_indicator</th>\n",
       "      <th>stm_contractgeb_mld</th>\n",
       "      <th>stm_techn_mld</th>\n",
       "      <th>stm_techn_gst</th>\n",
       "      <th>stm_sap_storeind</th>\n",
       "      <th>stm_sap_meld</th>\n",
       "      <th>stm_aanngeb</th>\n",
       "      <th>stm_aanntpl</th>\n",
       "    </tr>\n",
       "  </thead>\n",
       "  <tbody>\n",
       "    <tr>\n",
       "      <th>3652</th>\n",
       "      <td>16/10/2006 09:00:00</td>\n",
       "      <td>12.0</td>\n",
       "      <td>NaN</td>\n",
       "      <td>NaN</td>\n",
       "      <td>4.0</td>\n",
       "      <td>12.0</td>\n",
       "      <td>189.0</td>\n",
       "      <td>N</td>\n",
       "      <td>NaN</td>\n",
       "      <td>NaN</td>\n",
       "      <td>0</td>\n",
       "      <td>NB</td>\n",
       "      <td>NaN</td>\n",
       "      <td>NaN</td>\n",
       "      <td>B</td>\n",
       "      <td>2006-10-16 11:10:00</td>\n",
       "      <td>2006-10-16 09:00:00</td>\n",
       "      <td>2006-10-16 09:00:00</td>\n",
       "      <td>NaT</td>\n",
       "    </tr>\n",
       "    <tr>\n",
       "      <th>3851</th>\n",
       "      <td>28/10/2006 17:50:00</td>\n",
       "      <td>9.0</td>\n",
       "      <td>NaN</td>\n",
       "      <td>NaN</td>\n",
       "      <td>4.0</td>\n",
       "      <td>9.0</td>\n",
       "      <td>189.0</td>\n",
       "      <td>N</td>\n",
       "      <td>NaN</td>\n",
       "      <td>NaN</td>\n",
       "      <td>0</td>\n",
       "      <td>NB</td>\n",
       "      <td>NaN</td>\n",
       "      <td>NaN</td>\n",
       "      <td>B</td>\n",
       "      <td>2006-10-28 23:59:00</td>\n",
       "      <td>2006-10-28 17:50:00</td>\n",
       "      <td>2006-10-28 17:50:00</td>\n",
       "      <td>NaT</td>\n",
       "    </tr>\n",
       "    <tr>\n",
       "      <th>3857</th>\n",
       "      <td>28/10/2006 17:50:00</td>\n",
       "      <td>9.0</td>\n",
       "      <td>NaN</td>\n",
       "      <td>NaN</td>\n",
       "      <td>4.0</td>\n",
       "      <td>9.0</td>\n",
       "      <td>189.0</td>\n",
       "      <td>N</td>\n",
       "      <td>NaN</td>\n",
       "      <td>NaN</td>\n",
       "      <td>0</td>\n",
       "      <td>NB</td>\n",
       "      <td>NaN</td>\n",
       "      <td>NaN</td>\n",
       "      <td>B</td>\n",
       "      <td>2006-10-28 23:59:00</td>\n",
       "      <td>2006-10-28 17:50:00</td>\n",
       "      <td>2006-10-28 17:50:00</td>\n",
       "      <td>NaT</td>\n",
       "    </tr>\n",
       "    <tr>\n",
       "      <th>3867</th>\n",
       "      <td>28/10/2006 17:50:00</td>\n",
       "      <td>9.0</td>\n",
       "      <td>NaN</td>\n",
       "      <td>NaN</td>\n",
       "      <td>4.0</td>\n",
       "      <td>9.0</td>\n",
       "      <td>189.0</td>\n",
       "      <td>N</td>\n",
       "      <td>NaN</td>\n",
       "      <td>NaN</td>\n",
       "      <td>0</td>\n",
       "      <td>NB</td>\n",
       "      <td>NaN</td>\n",
       "      <td>NaN</td>\n",
       "      <td>B</td>\n",
       "      <td>2006-10-28 23:59:00</td>\n",
       "      <td>2006-10-28 17:50:00</td>\n",
       "      <td>2006-10-28 17:50:00</td>\n",
       "      <td>NaT</td>\n",
       "    </tr>\n",
       "    <tr>\n",
       "      <th>4007</th>\n",
       "      <td>02/11/2006 07:29:00</td>\n",
       "      <td>9.0</td>\n",
       "      <td>NaN</td>\n",
       "      <td>NaN</td>\n",
       "      <td>4.0</td>\n",
       "      <td>9.0</td>\n",
       "      <td>189.0</td>\n",
       "      <td>N</td>\n",
       "      <td>NaN</td>\n",
       "      <td>NaN</td>\n",
       "      <td>0</td>\n",
       "      <td>NB</td>\n",
       "      <td>NaN</td>\n",
       "      <td>NaN</td>\n",
       "      <td>B</td>\n",
       "      <td>2006-02-11 07:29:00</td>\n",
       "      <td>2006-02-11 07:29:00</td>\n",
       "      <td>2006-02-11 07:29:00</td>\n",
       "      <td>NaT</td>\n",
       "    </tr>\n",
       "  </tbody>\n",
       "</table>\n",
       "</div>"
      ],
      "text/plain": [
       "         stm_sap_meld_ddt  stm_geo_mld  stm_equipm_nr_mld stm_equipm_soort_mld  stm_prioriteit  stm_geo_gst  stm_oorz_code stm_tao_indicator stm_tao_indicator_vorige stm_tao_soort_mutatie  stm_tao_telling_mutatie stm_tao_beinvloedbaar_indicator  stm_contractgeb_mld stm_techn_mld stm_techn_gst    stm_sap_storeind        stm_sap_meld         stm_aanngeb stm_aanntpl\n",
       "3652  16/10/2006 09:00:00         12.0                NaN                  NaN             4.0         12.0          189.0                 N                      NaN                   NaN                        0                              NB                  NaN           NaN             B 2006-10-16 11:10:00 2006-10-16 09:00:00 2006-10-16 09:00:00         NaT\n",
       "3851  28/10/2006 17:50:00          9.0                NaN                  NaN             4.0          9.0          189.0                 N                      NaN                   NaN                        0                              NB                  NaN           NaN             B 2006-10-28 23:59:00 2006-10-28 17:50:00 2006-10-28 17:50:00         NaT\n",
       "3857  28/10/2006 17:50:00          9.0                NaN                  NaN             4.0          9.0          189.0                 N                      NaN                   NaN                        0                              NB                  NaN           NaN             B 2006-10-28 23:59:00 2006-10-28 17:50:00 2006-10-28 17:50:00         NaT\n",
       "3867  28/10/2006 17:50:00          9.0                NaN                  NaN             4.0          9.0          189.0                 N                      NaN                   NaN                        0                              NB                  NaN           NaN             B 2006-10-28 23:59:00 2006-10-28 17:50:00 2006-10-28 17:50:00         NaT\n",
       "4007  02/11/2006 07:29:00          9.0                NaN                  NaN             4.0          9.0          189.0                 N                      NaN                   NaN                        0                              NB                  NaN           NaN             B 2006-02-11 07:29:00 2006-02-11 07:29:00 2006-02-11 07:29:00         NaT"
      ]
     },
     "execution_count": 12,
     "metadata": {},
     "output_type": "execute_result"
    }
   ],
   "source": [
    "df.head()"
   ]
  },
  {
   "cell_type": "code",
   "execution_count": 13,
   "metadata": {},
   "outputs": [
    {
     "data": {
      "text/html": [
       "<div>\n",
       "<style scoped>\n",
       "    .dataframe tbody tr th:only-of-type {\n",
       "        vertical-align: middle;\n",
       "    }\n",
       "\n",
       "    .dataframe tbody tr th {\n",
       "        vertical-align: top;\n",
       "    }\n",
       "\n",
       "    .dataframe thead th {\n",
       "        text-align: right;\n",
       "    }\n",
       "</style>\n",
       "<table border=\"1\" class=\"dataframe\">\n",
       "  <thead>\n",
       "    <tr style=\"text-align: right;\">\n",
       "      <th></th>\n",
       "      <th>stm_geo_mld</th>\n",
       "      <th>stm_equipm_nr_mld</th>\n",
       "      <th>stm_prioriteit</th>\n",
       "      <th>stm_geo_gst</th>\n",
       "      <th>stm_oorz_code</th>\n",
       "      <th>stm_tao_telling_mutatie</th>\n",
       "      <th>stm_contractgeb_mld</th>\n",
       "    </tr>\n",
       "  </thead>\n",
       "  <tbody>\n",
       "    <tr>\n",
       "      <th>count</th>\n",
       "      <td>81667.000000</td>\n",
       "      <td>7.062900e+04</td>\n",
       "      <td>81667.000000</td>\n",
       "      <td>74658.000000</td>\n",
       "      <td>80418.000000</td>\n",
       "      <td>81667.000000</td>\n",
       "      <td>70615.000000</td>\n",
       "    </tr>\n",
       "    <tr>\n",
       "      <th>mean</th>\n",
       "      <td>315.415627</td>\n",
       "      <td>1.065116e+07</td>\n",
       "      <td>3.798303</td>\n",
       "      <td>308.031905</td>\n",
       "      <td>193.427355</td>\n",
       "      <td>0.000024</td>\n",
       "      <td>23.276358</td>\n",
       "    </tr>\n",
       "    <tr>\n",
       "      <th>std</th>\n",
       "      <td>261.634772</td>\n",
       "      <td>4.731008e+05</td>\n",
       "      <td>1.511147</td>\n",
       "      <td>259.768073</td>\n",
       "      <td>44.882920</td>\n",
       "      <td>0.004949</td>\n",
       "      <td>15.763418</td>\n",
       "    </tr>\n",
       "    <tr>\n",
       "      <th>min</th>\n",
       "      <td>0.000000</td>\n",
       "      <td>1.000001e+07</td>\n",
       "      <td>1.000000</td>\n",
       "      <td>0.000000</td>\n",
       "      <td>130.000000</td>\n",
       "      <td>0.000000</td>\n",
       "      <td>0.000000</td>\n",
       "    </tr>\n",
       "    <tr>\n",
       "      <th>25%</th>\n",
       "      <td>75.000000</td>\n",
       "      <td>1.021144e+07</td>\n",
       "      <td>2.000000</td>\n",
       "      <td>70.000000</td>\n",
       "      <td>146.000000</td>\n",
       "      <td>0.000000</td>\n",
       "      <td>11.000000</td>\n",
       "    </tr>\n",
       "    <tr>\n",
       "      <th>50%</th>\n",
       "      <td>205.000000</td>\n",
       "      <td>1.058993e+07</td>\n",
       "      <td>4.000000</td>\n",
       "      <td>203.000000</td>\n",
       "      <td>213.000000</td>\n",
       "      <td>0.000000</td>\n",
       "      <td>23.000000</td>\n",
       "    </tr>\n",
       "    <tr>\n",
       "      <th>75%</th>\n",
       "      <td>544.000000</td>\n",
       "      <td>1.096641e+07</td>\n",
       "      <td>5.000000</td>\n",
       "      <td>542.000000</td>\n",
       "      <td>221.000000</td>\n",
       "      <td>0.000000</td>\n",
       "      <td>31.000000</td>\n",
       "    </tr>\n",
       "    <tr>\n",
       "      <th>max</th>\n",
       "      <td>952.000000</td>\n",
       "      <td>1.166605e+07</td>\n",
       "      <td>9.000000</td>\n",
       "      <td>952.000000</td>\n",
       "      <td>299.000000</td>\n",
       "      <td>1.000000</td>\n",
       "      <td>99.000000</td>\n",
       "    </tr>\n",
       "  </tbody>\n",
       "</table>\n",
       "</div>"
      ],
      "text/plain": [
       "        stm_geo_mld  stm_equipm_nr_mld  stm_prioriteit   stm_geo_gst  stm_oorz_code  stm_tao_telling_mutatie  stm_contractgeb_mld\n",
       "count  81667.000000       7.062900e+04    81667.000000  74658.000000   80418.000000             81667.000000         70615.000000\n",
       "mean     315.415627       1.065116e+07        3.798303    308.031905     193.427355                 0.000024            23.276358\n",
       "std      261.634772       4.731008e+05        1.511147    259.768073      44.882920                 0.004949            15.763418\n",
       "min        0.000000       1.000001e+07        1.000000      0.000000     130.000000                 0.000000             0.000000\n",
       "25%       75.000000       1.021144e+07        2.000000     70.000000     146.000000                 0.000000            11.000000\n",
       "50%      205.000000       1.058993e+07        4.000000    203.000000     213.000000                 0.000000            23.000000\n",
       "75%      544.000000       1.096641e+07        5.000000    542.000000     221.000000                 0.000000            31.000000\n",
       "max      952.000000       1.166605e+07        9.000000    952.000000     299.000000                 1.000000            99.000000"
      ]
     },
     "execution_count": 13,
     "metadata": {},
     "output_type": "execute_result"
    }
   ],
   "source": [
    "df.describe()"
   ]
  },
  {
   "cell_type": "markdown",
   "metadata": {},
   "source": [
    "### Baseline\n",
    "\n",
    "Er word een gemmidelde duratie van de storingen gezocht."
   ]
  },
  {
   "cell_type": "code",
   "execution_count": 14,
   "metadata": {
    "pycharm": {
     "is_executing": true
    }
   },
   "outputs": [],
   "source": [
    "df['delta_storeind_meld'] = df['stm_sap_storeind'] - df['stm_sap_meld']\n",
    "df['delta_storeind_meld'] = df['delta_storeind_meld'].astype('timedelta64[m]')\n",
    "df['delta_storeind_meld'].describe()\n",
    "\n",
    "df['delta_storeind_meld'] = df['delta_storeind_meld'][df['delta_storeind_meld'].between(0, 360)]"
   ]
  },
  {
   "cell_type": "code",
   "execution_count": 91,
   "metadata": {},
   "outputs": [
    {
     "data": {
      "text/plain": [
       "{'B': 125.64494306009696,\n",
       " 'E': 127.00767805136351,\n",
       " 'S': 133.84827547779574,\n",
       " 'P': 80.21014050091631,\n",
       " 'O': 121.28260238164391,\n",
       " 'X': 92.17209302325581,\n",
       " 'M': 136.31764705882352,\n",
       " 'T': 127.26491092176607,\n",
       " 'K': 123.34615384615384,\n",
       " 'I': 110.79329608938548,\n",
       " 'G': 125.1219512195122,\n",
       " 'A': 226.66666666666666,\n",
       " 'nan': 118.77211090872294}"
      ]
     },
     "execution_count": 91,
     "metadata": {},
     "output_type": "execute_result"
    }
   ],
   "source": [
    "tech_fields_averages = {};\n",
    "for tech_field in df['stm_techn_gst'].unique():\n",
    "    tech_fields_averages[tech_field]=(df[df['stm_techn_gst']==tech_field]['delta_storeind_meld'].mean())\n",
    "    \n",
    "tech_fields_averages['nan']=df['delta_storeind_meld'][df['stm_techn_mld'].isna()].mean()\n",
    "\n",
    "tech_fields_averages"
   ]
  },
  {
   "cell_type": "code",
   "execution_count": 98,
   "metadata": {},
   "outputs": [],
   "source": [
    "df['techniek_gem_duur'] = df['stm_techn_gst']\n",
    "for tech_field in df['stm_techn_gst'].unique():\n",
    "    df['techniek_gem_duur'] = df['techniek_gem_duur'].replace(tech_field,tech_fields_averages[tech_field])\n",
    "    \n",
    "df['techniek_gem_duur'] = df['techniek_gem_duur'].fillna(tech_fields_averages['nan'])"
   ]
  },
  {
   "cell_type": "markdown",
   "metadata": {},
   "source": [
    "We zien dat er wat extreme waardes tussen zitten. Zo hebben we een storing die maarliefst 1,89 jaar duurt, en minstens een met een negatieve duur (waarschijnlijk omdat `stm_sap_meld` onbreekt).\n",
    "\n",
    "Storingen die langer dan 8 uur duren beschouwen wij als 'speciale' gevallen, en vinden wij niet interessant voor ons doel om algemenere storingen te voorspellen. Waardes die terug de tijd in gaan vinden we interessant doch irrelevant voor de questie."
   ]
  },
  {
   "cell_type": "code",
   "execution_count": 18,
   "metadata": {
    "pycharm": {
     "is_executing": true
    }
   },
   "outputs": [],
   "source": [
    "#df_full.loc[df['delta_storeind_meld'].idxmin()]"
   ]
  },
  {
   "cell_type": "markdown",
   "metadata": {},
   "source": [
    "# Lineare regressie"
   ]
  },
  {
   "cell_type": "code",
   "execution_count": 19,
   "metadata": {},
   "outputs": [
    {
     "data": {
      "text/plain": [
       "stm_sap_meld_ddt                   81667\n",
       "stm_geo_mld                        81667\n",
       "stm_equipm_nr_mld                  70629\n",
       "stm_equipm_soort_mld               70629\n",
       "stm_prioriteit                     81667\n",
       "stm_geo_gst                        74658\n",
       "stm_oorz_code                      80418\n",
       "stm_tao_indicator                  81667\n",
       "stm_tao_indicator_vorige           81643\n",
       "stm_tao_soort_mutatie              22612\n",
       "stm_tao_telling_mutatie            81667\n",
       "stm_tao_beinvloedbaar_indicator    81667\n",
       "stm_contractgeb_mld                70615\n",
       "stm_techn_mld                      70708\n",
       "stm_techn_gst                      81667\n",
       "stm_sap_storeind                   81667\n",
       "stm_sap_meld                       81667\n",
       "stm_aanngeb                        81640\n",
       "stm_aanntpl                        77070\n",
       "delta_storeind_meld                39745\n",
       "techniek_gem_duur                  81667\n",
       "dtype: int64"
      ]
     },
     "execution_count": 19,
     "metadata": {},
     "output_type": "execute_result"
    }
   ],
   "source": [
    "# df['stm_techn_gst'].value_counts()\n",
    "df.count()"
   ]
  },
  {
   "cell_type": "code",
   "execution_count": 20,
   "metadata": {},
   "outputs": [
    {
     "data": {
      "text/plain": [
       "array([[<matplotlib.axes._subplots.AxesSubplot object at 0x000001ECDCE51BC8>,\n",
       "        <matplotlib.axes._subplots.AxesSubplot object at 0x000001ECC6D4D588>,\n",
       "        <matplotlib.axes._subplots.AxesSubplot object at 0x000001EC25A313C8>],\n",
       "       [<matplotlib.axes._subplots.AxesSubplot object at 0x000001EC17532E08>,\n",
       "        <matplotlib.axes._subplots.AxesSubplot object at 0x000001EC16E6F688>,\n",
       "        <matplotlib.axes._subplots.AxesSubplot object at 0x000001EC1F9BC748>],\n",
       "       [<matplotlib.axes._subplots.AxesSubplot object at 0x000001ECBD80EC88>,\n",
       "        <matplotlib.axes._subplots.AxesSubplot object at 0x000001EC1A208A88>,\n",
       "        <matplotlib.axes._subplots.AxesSubplot object at 0x000001EC1A21B488>]],\n",
       "      dtype=object)"
      ]
     },
     "execution_count": 20,
     "metadata": {},
     "output_type": "execute_result"
    },
    {
     "data": {
      "image/png": "[encoded data removed]",
      "text/plain": [
       "<Figure size 1080x720 with 9 Axes>"
      ]
     },
     "metadata": {
      "needs_background": "light"
     },
     "output_type": "display_data"
    }
   ],
   "source": [
    "df.hist(figsize=[15,10])"
   ]
  },
  {
   "cell_type": "code",
   "execution_count": 21,
   "metadata": {},
   "outputs": [],
   "source": [
    "from sklearn.linear_model import LinearRegression\n",
    "from sklearn.model_selection import train_test_split\n",
    "\n",
    "from math import sqrt\n",
    "from sklearn.metrics import mean_squared_error\n",
    "\n",
    "from sklearn.tree import DecisionTreeClassifier\n",
    "from sklearn import tree"
   ]
  },
  {
   "cell_type": "code",
   "execution_count": 100,
   "metadata": {},
   "outputs": [
    {
     "name": "stdout",
     "output_type": "stream",
     "text": [
      "Aantal trainwaarden 61250\n",
      "Aantal testwaarden 20417\n"
     ]
    }
   ],
   "source": [
    "X = df[['techniek_gem_duur']]\n",
    "y = df['delta_storeind_meld']\n",
    "\n",
    "X_train, X_test, y_train, y_test = train_test_split(X,y, random_state=0)\n",
    "print('Aantal trainwaarden {0:d}'.format(len(X_train)))\n",
    "print('Aantal testwaarden {0:d}'.format(len(y_test)))"
   ]
  },
  {
   "cell_type": "code",
   "execution_count": 101,
   "metadata": {},
   "outputs": [
    {
     "ename": "ValueError",
     "evalue": "Input contains NaN, infinity or a value too large for dtype('float64').",
     "output_type": "error",
     "traceback": [
      "\u001b[1;31m---------------------------------------------------------------------------\u001b[0m",
      "\u001b[1;31mValueError\u001b[0m                                Traceback (most recent call last)",
      "\u001b[1;32m<ipython-input-101-dd920358ae7f>\u001b[0m in \u001b[0;36m<module>\u001b[1;34m\u001b[0m\n\u001b[1;32m----> 1\u001b[1;33m \u001b[0mtree_classifier\u001b[0m \u001b[1;33m=\u001b[0m \u001b[0mDecisionTreeClassifier\u001b[0m\u001b[1;33m(\u001b[0m\u001b[0mrandom_state\u001b[0m\u001b[1;33m=\u001b[0m\u001b[1;36m0\u001b[0m\u001b[1;33m)\u001b[0m\u001b[1;33m.\u001b[0m\u001b[0mfit\u001b[0m\u001b[1;33m(\u001b[0m\u001b[0mX\u001b[0m\u001b[1;33m,\u001b[0m \u001b[0my\u001b[0m\u001b[1;33m)\u001b[0m\u001b[1;33m\u001b[0m\u001b[1;33m\u001b[0m\u001b[0m\n\u001b[0m\u001b[0;32m      2\u001b[0m \u001b[0mlinear_classifier\u001b[0m \u001b[1;33m=\u001b[0m \u001b[0mLinearRegression\u001b[0m\u001b[1;33m(\u001b[0m\u001b[1;33m)\u001b[0m\u001b[1;33m.\u001b[0m\u001b[0mfit\u001b[0m\u001b[1;33m(\u001b[0m\u001b[0mX\u001b[0m\u001b[1;33m,\u001b[0m \u001b[0my\u001b[0m\u001b[1;33m)\u001b[0m\u001b[1;33m\u001b[0m\u001b[1;33m\u001b[0m\u001b[0m\n\u001b[0;32m      3\u001b[0m \u001b[1;33m\u001b[0m\u001b[0m\n\u001b[0;32m      4\u001b[0m \u001b[0mprint\u001b[0m\u001b[1;33m(\u001b[0m\u001b[1;34m\"tree_classifier Score  :\"\u001b[0m\u001b[1;33m,\u001b[0m\u001b[0mtree_classifier\u001b[0m\u001b[1;33m.\u001b[0m\u001b[0mscore\u001b[0m\u001b[1;33m(\u001b[0m\u001b[0mX\u001b[0m\u001b[1;33m,\u001b[0m \u001b[0my\u001b[0m\u001b[1;33m)\u001b[0m\u001b[1;33m)\u001b[0m\u001b[1;33m\u001b[0m\u001b[1;33m\u001b[0m\u001b[0m\n\u001b[0;32m      5\u001b[0m \u001b[0mprint\u001b[0m\u001b[1;33m(\u001b[0m\u001b[1;34m\"linear_classifier Score:\"\u001b[0m\u001b[1;33m,\u001b[0m\u001b[0mlinear_classifier\u001b[0m\u001b[1;33m.\u001b[0m\u001b[0mscore\u001b[0m\u001b[1;33m(\u001b[0m\u001b[0mX\u001b[0m\u001b[1;33m,\u001b[0m \u001b[0my\u001b[0m\u001b[1;33m)\u001b[0m\u001b[1;33m)\u001b[0m\u001b[1;33m\u001b[0m\u001b[1;33m\u001b[0m\u001b[0m\n",
      "\u001b[1;32mc:\\users\\roela\\appdata\\local\\programs\\python\\python37\\lib\\site-packages\\sklearn\\tree\\tree.py\u001b[0m in \u001b[0;36mfit\u001b[1;34m(self, X, y, sample_weight, check_input, X_idx_sorted)\u001b[0m\n\u001b[0;32m    814\u001b[0m             \u001b[0msample_weight\u001b[0m\u001b[1;33m=\u001b[0m\u001b[0msample_weight\u001b[0m\u001b[1;33m,\u001b[0m\u001b[1;33m\u001b[0m\u001b[1;33m\u001b[0m\u001b[0m\n\u001b[0;32m    815\u001b[0m             \u001b[0mcheck_input\u001b[0m\u001b[1;33m=\u001b[0m\u001b[0mcheck_input\u001b[0m\u001b[1;33m,\u001b[0m\u001b[1;33m\u001b[0m\u001b[1;33m\u001b[0m\u001b[0m\n\u001b[1;32m--> 816\u001b[1;33m             X_idx_sorted=X_idx_sorted)\n\u001b[0m\u001b[0;32m    817\u001b[0m         \u001b[1;32mreturn\u001b[0m \u001b[0mself\u001b[0m\u001b[1;33m\u001b[0m\u001b[1;33m\u001b[0m\u001b[0m\n\u001b[0;32m    818\u001b[0m \u001b[1;33m\u001b[0m\u001b[0m\n",
      "\u001b[1;32mc:\\users\\roela\\appdata\\local\\programs\\python\\python37\\lib\\site-packages\\sklearn\\tree\\tree.py\u001b[0m in \u001b[0;36mfit\u001b[1;34m(self, X, y, sample_weight, check_input, X_idx_sorted)\u001b[0m\n\u001b[0;32m    129\u001b[0m         \u001b[1;32mif\u001b[0m \u001b[0mcheck_input\u001b[0m\u001b[1;33m:\u001b[0m\u001b[1;33m\u001b[0m\u001b[1;33m\u001b[0m\u001b[0m\n\u001b[0;32m    130\u001b[0m             \u001b[0mX\u001b[0m \u001b[1;33m=\u001b[0m \u001b[0mcheck_array\u001b[0m\u001b[1;33m(\u001b[0m\u001b[0mX\u001b[0m\u001b[1;33m,\u001b[0m \u001b[0mdtype\u001b[0m\u001b[1;33m=\u001b[0m\u001b[0mDTYPE\u001b[0m\u001b[1;33m,\u001b[0m \u001b[0maccept_sparse\u001b[0m\u001b[1;33m=\u001b[0m\u001b[1;34m\"csc\"\u001b[0m\u001b[1;33m)\u001b[0m\u001b[1;33m\u001b[0m\u001b[1;33m\u001b[0m\u001b[0m\n\u001b[1;32m--> 131\u001b[1;33m             \u001b[0my\u001b[0m \u001b[1;33m=\u001b[0m \u001b[0mcheck_array\u001b[0m\u001b[1;33m(\u001b[0m\u001b[0my\u001b[0m\u001b[1;33m,\u001b[0m \u001b[0mensure_2d\u001b[0m\u001b[1;33m=\u001b[0m\u001b[1;32mFalse\u001b[0m\u001b[1;33m,\u001b[0m \u001b[0mdtype\u001b[0m\u001b[1;33m=\u001b[0m\u001b[1;32mNone\u001b[0m\u001b[1;33m)\u001b[0m\u001b[1;33m\u001b[0m\u001b[1;33m\u001b[0m\u001b[0m\n\u001b[0m\u001b[0;32m    132\u001b[0m             \u001b[1;32mif\u001b[0m \u001b[0missparse\u001b[0m\u001b[1;33m(\u001b[0m\u001b[0mX\u001b[0m\u001b[1;33m)\u001b[0m\u001b[1;33m:\u001b[0m\u001b[1;33m\u001b[0m\u001b[1;33m\u001b[0m\u001b[0m\n\u001b[0;32m    133\u001b[0m                 \u001b[0mX\u001b[0m\u001b[1;33m.\u001b[0m\u001b[0msort_indices\u001b[0m\u001b[1;33m(\u001b[0m\u001b[1;33m)\u001b[0m\u001b[1;33m\u001b[0m\u001b[1;33m\u001b[0m\u001b[0m\n",
      "\u001b[1;32mc:\\users\\roela\\appdata\\local\\programs\\python\\python37\\lib\\site-packages\\sklearn\\utils\\validation.py\u001b[0m in \u001b[0;36mcheck_array\u001b[1;34m(array, accept_sparse, accept_large_sparse, dtype, order, copy, force_all_finite, ensure_2d, allow_nd, ensure_min_samples, ensure_min_features, warn_on_dtype, estimator)\u001b[0m\n\u001b[0;32m    540\u001b[0m         \u001b[1;32mif\u001b[0m \u001b[0mforce_all_finite\u001b[0m\u001b[1;33m:\u001b[0m\u001b[1;33m\u001b[0m\u001b[1;33m\u001b[0m\u001b[0m\n\u001b[0;32m    541\u001b[0m             _assert_all_finite(array,\n\u001b[1;32m--> 542\u001b[1;33m                                allow_nan=force_all_finite == 'allow-nan')\n\u001b[0m\u001b[0;32m    543\u001b[0m \u001b[1;33m\u001b[0m\u001b[0m\n\u001b[0;32m    544\u001b[0m     \u001b[1;32mif\u001b[0m \u001b[0mensure_min_samples\u001b[0m \u001b[1;33m>\u001b[0m \u001b[1;36m0\u001b[0m\u001b[1;33m:\u001b[0m\u001b[1;33m\u001b[0m\u001b[1;33m\u001b[0m\u001b[0m\n",
      "\u001b[1;32mc:\\users\\roela\\appdata\\local\\programs\\python\\python37\\lib\\site-packages\\sklearn\\utils\\validation.py\u001b[0m in \u001b[0;36m_assert_all_finite\u001b[1;34m(X, allow_nan)\u001b[0m\n\u001b[0;32m     54\u001b[0m                 not allow_nan and not np.isfinite(X).all()):\n\u001b[0;32m     55\u001b[0m             \u001b[0mtype_err\u001b[0m \u001b[1;33m=\u001b[0m \u001b[1;34m'infinity'\u001b[0m \u001b[1;32mif\u001b[0m \u001b[0mallow_nan\u001b[0m \u001b[1;32melse\u001b[0m \u001b[1;34m'NaN, infinity'\u001b[0m\u001b[1;33m\u001b[0m\u001b[1;33m\u001b[0m\u001b[0m\n\u001b[1;32m---> 56\u001b[1;33m             \u001b[1;32mraise\u001b[0m \u001b[0mValueError\u001b[0m\u001b[1;33m(\u001b[0m\u001b[0mmsg_err\u001b[0m\u001b[1;33m.\u001b[0m\u001b[0mformat\u001b[0m\u001b[1;33m(\u001b[0m\u001b[0mtype_err\u001b[0m\u001b[1;33m,\u001b[0m \u001b[0mX\u001b[0m\u001b[1;33m.\u001b[0m\u001b[0mdtype\u001b[0m\u001b[1;33m)\u001b[0m\u001b[1;33m)\u001b[0m\u001b[1;33m\u001b[0m\u001b[1;33m\u001b[0m\u001b[0m\n\u001b[0m\u001b[0;32m     57\u001b[0m     \u001b[1;31m# for object dtype data, we only check for NaNs (GH-13254)\u001b[0m\u001b[1;33m\u001b[0m\u001b[1;33m\u001b[0m\u001b[1;33m\u001b[0m\u001b[0m\n\u001b[0;32m     58\u001b[0m     \u001b[1;32melif\u001b[0m \u001b[0mX\u001b[0m\u001b[1;33m.\u001b[0m\u001b[0mdtype\u001b[0m \u001b[1;33m==\u001b[0m \u001b[0mnp\u001b[0m\u001b[1;33m.\u001b[0m\u001b[0mdtype\u001b[0m\u001b[1;33m(\u001b[0m\u001b[1;34m'object'\u001b[0m\u001b[1;33m)\u001b[0m \u001b[1;32mand\u001b[0m \u001b[1;32mnot\u001b[0m \u001b[0mallow_nan\u001b[0m\u001b[1;33m:\u001b[0m\u001b[1;33m\u001b[0m\u001b[1;33m\u001b[0m\u001b[0m\n",
      "\u001b[1;31mValueError\u001b[0m: Input contains NaN, infinity or a value too large for dtype('float64')."
     ]
    }
   ],
   "source": [
    "tree_classifier = DecisionTreeClassifier(random_state=0).fit(X, y)\n",
    "linear_classifier = LinearRegression().fit(X, y)\n",
    "\n",
    "print(\"tree_classifier Score  :\",tree_classifier.score(X, y))\n",
    "print(\"linear_classifier Score:\",linear_classifier.score(X, y))\n",
    "\n",
    "print(\"tree_classifier RMSE   :\",sqrt(mean_squared_error(y_test, tree_classifier.predict(X_test))))\n",
    "print(\"linear_classifier RMSE :\",sqrt(mean_squared_error(y_test, linear_classifier.predict(X_test))))"
   ]
  },
  {
   "cell_type": "code",
   "execution_count": null,
   "metadata": {},
   "outputs": [],
   "source": []
  },
  {
   "cell_type": "code",
   "execution_count": null,
   "metadata": {},
   "outputs": [],
   "source": [
    "# df.plot.scatter('stm_techn_gst','delta_storeind_meld')"
   ]
  },
  {
   "cell_type": "code",
   "execution_count": null,
   "metadata": {},
   "outputs": [],
   "source": []
  }
 ],
 "metadata": {
  "kernelspec": {
   "display_name": "Python 3",
   "language": "python",
   "name": "python3"
  },
  "language_info": {
   "codemirror_mode": {
    "name": "ipython",
    "version": 3
   },
   "file_extension": ".py",
   "mimetype": "text/x-python",
   "name": "python",
   "nbconvert_exporter": "python",
   "pygments_lexer": "ipython3",
   "version": "3.7.5"
  },
  "pycharm": {
   "stem_cell": {
    "cell_type": "raw",
    "metadata": {
     "collapsed": false
    },
    "source": []
   }
  }
 },
 "nbformat": 4,
 "nbformat_minor": 2
}
