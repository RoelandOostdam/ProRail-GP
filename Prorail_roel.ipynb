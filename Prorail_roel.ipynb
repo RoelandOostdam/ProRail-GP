{
 "cells": [
  {
   "cell_type": "code",
   "execution_count": 1,
   "metadata": {
    "pycharm": {
     "is_executing": true
    }
   },
   "outputs": [],
   "source": [
    "import numpy as np\n",
    "import pandas as pd\n",
    "import matplotlib.pyplot as plt"
   ]
  },
  {
   "cell_type": "markdown",
   "metadata": {},
   "source": [
    "Voor een betere display met `head()`"
   ]
  },
  {
   "cell_type": "code",
   "execution_count": 2,
   "metadata": {
    "pycharm": {
     "is_executing": true
    }
   },
   "outputs": [],
   "source": [
    "pd.set_option('display.max_rows', 500)\n",
    "pd.set_option('display.max_columns', 500)\n",
    "pd.set_option('display.width', 1000)"
   ]
  },
  {
   "cell_type": "code",
   "execution_count": 3,
   "metadata": {
    "pycharm": {
     "is_executing": true
    }
   },
   "outputs": [],
   "source": [
    "df_read = pd.read_csv(\"data/sap_storing_data_hu_project.csv\", low_memory=False)"
   ]
  },
  {
   "cell_type": "code",
   "execution_count": 4,
   "metadata": {},
   "outputs": [],
   "source": [
    "df_full = df_read.copy()"
   ]
  },
  {
   "cell_type": "markdown",
   "metadata": {},
   "source": [
    "Kolommen gemarkeerd als 'nvt' of '?' worden verwijderd"
   ]
  },
  {
   "cell_type": "code",
   "execution_count": 5,
   "metadata": {
    "pycharm": {
     "is_executing": true
    }
   },
   "outputs": [],
   "source": [
    "nvt_columns = [\"stm_sap_mon_meld_ddt\", \"stm_mon_begin_ddt\", \"stm_mon_toelichting_trdl\",  \"stm_oh_pg_mld\",  \"stm_geo_mld_uit_functiepl\",  \"stm_scenario_mon\",  \"stm_status_melding_sap\",  \"stm_mon_nr_status_omschr\",  \"stm_mon_nr__statuscode\",  \"stm_mon_nr_status_wijzdd\",  \"stm_aanntpl_ddt\",  \"stm_geo_gst_uit_functiepl\",  \"stm_objectdl_code_gst\",  \"stm_objectdl_groep_gst\",  \"stm_progfh_in_ddt\",  \"stm_progfh_in_invoer_ddt\",  \"stm_progfh_gw_ddt\",  \"stm_progfh_gw_lwd_ddt\",  \"stm_progfh_hz\", \"stm_veroorz_groep\", \"stm_veroorz_code\", \"stm_veroorz_tekst_kort\", \"stm_effect\", \"stm_afspr_aanvangddt\", \"stm_mon_eind_ddt\", \"stm_mon_vhdsincident\", \"stm_dir_betrok_tr\", \"stm_aangelegd_dd\", \"stm_aangelegd_tijd\", \"stm_mon_begindatum\", \"stm_mon_begintijd\", \"stm_progfh_gw_datum\", \"stm_mon_eind_datum\", \"stm_mon_eind_tijd\", \"stm_controle_dd\", \"stm_akkoord_mon_toewijz\", \"stm_status_sapnaarmon\", \"stm_fact_jn\", \"stm_akkoord_melding_jn\", \"stm_afsluit_ddt\", \"stm_afsluit_dd\", \"stm_afsluit_tijd\", \"stm_rec_toegev_ddt\", \"stm_hinderwaarde\", \"stm_actie\", \"stm_standplaats\", \"stm_status_gebr\", \"stm_wbi_nummer\", \"stm_projnr\", \"stm_historie_toelichting\", \"stm_schade_verhaalb_jn\", \"stm_schadenr\", \"stm_schade_status_ga\", \"stm_schade_statusdatum\", \"stm_relatiervo_vorig\", \"stm_relatiervo_volgend\", \"stm_relatiervo\", \"stm_afspr_func_hersteldd\", \"stm_afspr_func_hersteltijd\", \"stm_sorteerveld\", \"stm_rapportage_maand\", \"stm_rapportage_jaar\", \"stm_x_bron_publ_dt\", \"stm_x_bron_bestandsnaam\", \"stm_x_bron_arch_dt\", \"stm_x_actueel_ind\", \"stm_x_run_id\", \"stm_x_bk\", \"stm_x_start_sessie_dt\", \"stm_x_vervallen_ind\", \"stm_evb\", \"stm_functiepl_mld\", \"stm_functiepl_gst\", \"stm_arbeid\", \"stm_progfh_in_duur\", \"stm_progfh_gw_lwd_datum\", \"stm_progfh_gw_lwd_tijd\", \"stm_progfh_gw_duur\", \"stm_afspr_aanvangdd\", \"stm_afspr_aanvangtijd\", \"stm_reactie_duur\"]\n",
    "\n",
    "for x in nvt_columns:\n",
    "    df_full.drop(x, axis=1, inplace=True)"
   ]
  },
  {
   "cell_type": "markdown",
   "metadata": {
    "pycharm": {
     "is_executing": false
    }
   },
   "source": [
    "Er word een nieuwe dataframe gemaakt met die alleen de kolommen bevat die wij int"
   ]
  },
  {
   "cell_type": "code",
   "execution_count": 6,
   "metadata": {
    "pycharm": {
     "is_executing": true
    },
    "scrolled": true
   },
   "outputs": [],
   "source": [
    "df = df_full[[\"stm_fh_duur\", \"stm_sap_meld_ddt\",  \"stm_geo_mld\",  \"stm_equipm_nr_mld\",  \"stm_equipm_soort_mld\",  \"stm_km_van_mld\",  \"stm_km_tot_mld\",  \"stm_prioriteit\",  \"stm_geo_gst\",  \"stm_oorz_code\",  \"stm_tao_indicator\",  \"stm_tao_indicator_vorige\",  \"stm_tao_soort_mutatie\",  \"stm_tao_telling_mutatie\",  \"stm_tao_beinvloedbaar_indicator\",  \"stm_sap_melddatum\",  \"stm_sap_meldtijd\",  \"stm_contractgeb_mld\",  \"stm_techn_mld\",  \"stm_techn_gst\",  \"stm_aanngeb_dd\",  \"stm_aanngeb_tijd\",  \"stm_aanntpl_dd\",  \"stm_aanntpl_tijd\", \"stm_sap_storeinddatum\", \"stm_sap_storeindtijd\"]]"
   ]
  },
  {
   "cell_type": "code",
   "execution_count": 7,
   "metadata": {
    "pycharm": {
     "is_executing": true
    }
   },
   "outputs": [],
   "source": [
    "# df.tail(20)"
   ]
  },
  {
   "cell_type": "markdown",
   "metadata": {},
   "source": [
    "strings naar datums converten"
   ]
  },
  {
   "cell_type": "code",
   "execution_count": 8,
   "metadata": {},
   "outputs": [],
   "source": [
    "# df['stm_sap_storeindtijd'][df['stm_sap_storeindtijd']==\":\"].count()\n",
    "df = df[df['stm_sap_storeindtijd']!=\"::\"]\n",
    "df = df[df['stm_sap_storeindtijd']!=\":\"]"
   ]
  },
  {
   "cell_type": "code",
   "execution_count": 9,
   "metadata": {},
   "outputs": [],
   "source": [
    "df['stm_sap_storeind'] = pd.to_datetime(df['stm_sap_storeindtijd'] + ' ' + df['stm_sap_storeinddatum'],errors='coerce')"
   ]
  },
  {
   "cell_type": "code",
   "execution_count": 10,
   "metadata": {},
   "outputs": [],
   "source": [
    "df['stm_sap_meld'] = pd.to_datetime(df['stm_sap_meldtijd'] + ' ' + df['stm_sap_melddatum'],errors='coerce')"
   ]
  },
  {
   "cell_type": "code",
   "execution_count": 11,
   "metadata": {},
   "outputs": [],
   "source": [
    "df['stm_aanngeb'] = pd.to_datetime(df['stm_aanngeb_tijd'] + ' ' + df['stm_aanngeb_dd'],errors='coerce')"
   ]
  },
  {
   "cell_type": "code",
   "execution_count": 12,
   "metadata": {},
   "outputs": [],
   "source": [
    "df['stm_aanntpl'] = pd.to_datetime(df['stm_aanntpl_tijd'] + ' ' + df['stm_aanntpl_dd'],errors='coerce')"
   ]
  },
  {
   "cell_type": "code",
   "execution_count": 13,
   "metadata": {},
   "outputs": [
    {
     "data": {
      "text/plain": [
       "661166"
      ]
     },
     "execution_count": 13,
     "metadata": {},
     "output_type": "execute_result"
    }
   ],
   "source": [
    "df['stm_sap_storeind'].count()"
   ]
  },
  {
   "cell_type": "code",
   "execution_count": 14,
   "metadata": {},
   "outputs": [],
   "source": [
    "# # Verkeerde/lege data droppen\n",
    "df = df.dropna(subset=['stm_sap_storeind'])\n",
    "df = df.dropna(subset=['stm_sap_meld'])"
   ]
  },
  {
   "cell_type": "code",
   "execution_count": 15,
   "metadata": {},
   "outputs": [
    {
     "data": {
      "text/plain": [
       "661090"
      ]
     },
     "execution_count": 15,
     "metadata": {},
     "output_type": "execute_result"
    }
   ],
   "source": [
    "df['stm_sap_storeind'].count()"
   ]
  },
  {
   "cell_type": "code",
   "execution_count": 16,
   "metadata": {
    "pycharm": {
     "is_executing": true
    }
   },
   "outputs": [],
   "source": [
    "# Oude kolommen droppen\n",
    "df.drop(columns=['stm_sap_storeinddatum','stm_sap_storeindtijd','stm_aanngeb_dd','stm_aanngeb_tijd','stm_aanntpl_dd','stm_aanntpl_tijd','stm_sap_melddatum','stm_sap_meldtijd','stm_km_van_mld','stm_km_tot_mld'],inplace=True)"
   ]
  },
  {
   "cell_type": "markdown",
   "metadata": {},
   "source": [
    "objecten naar ints converten"
   ]
  },
  {
   "cell_type": "code",
   "execution_count": 17,
   "metadata": {
    "pycharm": {
     "is_executing": true
    }
   },
   "outputs": [],
   "source": [
    "df['stm_prioriteit'] = pd.to_numeric(df['stm_prioriteit'],errors='coerce')\n",
    "df['stm_geo_gst'] = pd.to_numeric(df['stm_geo_gst'],errors='coerce')\n",
    "df['stm_geo_mld'] = pd.to_numeric(df['stm_geo_mld'],errors='coerce')\n",
    "df['stm_fh_duur'] = pd.to_numeric(df['stm_fh_duur'],errors='coerce')\n",
    "\n",
    "# df['stm_techn_gst'] = pd.Categorical(df['stm_techn_gst'])"
   ]
  },
  {
   "cell_type": "code",
   "execution_count": 18,
   "metadata": {},
   "outputs": [],
   "source": [
    "df = df.dropna(subset=['stm_prioriteit'])\n",
    "df = df.dropna(subset=['stm_geo_gst'])\n",
    "df = df.dropna(subset=['stm_geo_mld'])\n",
    "df = df.dropna(subset=['stm_fh_duur'])\n",
    "df = df.dropna(subset=['stm_oorz_code'])"
   ]
  },
  {
   "cell_type": "code",
   "execution_count": 19,
   "metadata": {},
   "outputs": [
    {
     "data": {
      "text/plain": [
       "545476"
      ]
     },
     "execution_count": 19,
     "metadata": {},
     "output_type": "execute_result"
    }
   ],
   "source": [
    "df['stm_sap_storeind'].count()"
   ]
  },
  {
   "cell_type": "markdown",
   "metadata": {},
   "source": [
    "Time en Date collums combineren in datetime collumns"
   ]
  },
  {
   "cell_type": "code",
   "execution_count": 20,
   "metadata": {
    "pycharm": {
     "is_executing": true
    }
   },
   "outputs": [
    {
     "data": {
      "text/plain": [
       "stm_fh_duur                               float64\n",
       "stm_sap_meld_ddt                           object\n",
       "stm_geo_mld                               float64\n",
       "stm_equipm_nr_mld                         float64\n",
       "stm_equipm_soort_mld                       object\n",
       "stm_prioriteit                            float64\n",
       "stm_geo_gst                               float64\n",
       "stm_oorz_code                             float64\n",
       "stm_tao_indicator                          object\n",
       "stm_tao_indicator_vorige                   object\n",
       "stm_tao_soort_mutatie                      object\n",
       "stm_tao_telling_mutatie                     int64\n",
       "stm_tao_beinvloedbaar_indicator            object\n",
       "stm_contractgeb_mld                       float64\n",
       "stm_techn_mld                              object\n",
       "stm_techn_gst                              object\n",
       "stm_sap_storeind                   datetime64[ns]\n",
       "stm_sap_meld                       datetime64[ns]\n",
       "stm_aanngeb                        datetime64[ns]\n",
       "stm_aanntpl                        datetime64[ns]\n",
       "dtype: object"
      ]
     },
     "execution_count": 20,
     "metadata": {},
     "output_type": "execute_result"
    }
   ],
   "source": [
    "df.dtypes"
   ]
  },
  {
   "cell_type": "code",
   "execution_count": 21,
   "metadata": {},
   "outputs": [
    {
     "data": {
      "text/plain": [
       "stm_fh_duur                        545476\n",
       "stm_sap_meld_ddt                   545476\n",
       "stm_geo_mld                        545476\n",
       "stm_equipm_nr_mld                  466301\n",
       "stm_equipm_soort_mld               466300\n",
       "stm_prioriteit                     545476\n",
       "stm_geo_gst                        545476\n",
       "stm_oorz_code                      545476\n",
       "stm_tao_indicator                  545068\n",
       "stm_tao_indicator_vorige           211993\n",
       "stm_tao_soort_mutatie              114567\n",
       "stm_tao_telling_mutatie            545476\n",
       "stm_tao_beinvloedbaar_indicator    545476\n",
       "stm_contractgeb_mld                466234\n",
       "stm_techn_mld                      466768\n",
       "stm_techn_gst                      545476\n",
       "stm_sap_storeind                   545476\n",
       "stm_sap_meld                       545476\n",
       "stm_aanngeb                        545255\n",
       "stm_aanntpl                        516008\n",
       "dtype: int64"
      ]
     },
     "execution_count": 21,
     "metadata": {},
     "output_type": "execute_result"
    }
   ],
   "source": [
    "df.count()"
   ]
  },
  {
   "cell_type": "code",
   "execution_count": 22,
   "metadata": {
    "pycharm": {
     "is_executing": true
    }
   },
   "outputs": [
    {
     "data": {
      "text/plain": [
       "Timedelta('0 days 03:02:00')"
      ]
     },
     "execution_count": 22,
     "metadata": {},
     "output_type": "execute_result"
    }
   ],
   "source": [
    "(df['stm_sap_storeind']-df['stm_sap_meld']).median()"
   ]
  },
  {
   "cell_type": "code",
   "execution_count": 23,
   "metadata": {
    "pycharm": {
     "is_executing": true
    }
   },
   "outputs": [
    {
     "data": {
      "text/html": [
       "<div>\n",
       "<style scoped>\n",
       "    .dataframe tbody tr th:only-of-type {\n",
       "        vertical-align: middle;\n",
       "    }\n",
       "\n",
       "    .dataframe tbody tr th {\n",
       "        vertical-align: top;\n",
       "    }\n",
       "\n",
       "    .dataframe thead th {\n",
       "        text-align: right;\n",
       "    }\n",
       "</style>\n",
       "<table border=\"1\" class=\"dataframe\">\n",
       "  <thead>\n",
       "    <tr style=\"text-align: right;\">\n",
       "      <th></th>\n",
       "      <th>stm_fh_duur</th>\n",
       "      <th>stm_sap_meld_ddt</th>\n",
       "      <th>stm_geo_mld</th>\n",
       "      <th>stm_equipm_nr_mld</th>\n",
       "      <th>stm_equipm_soort_mld</th>\n",
       "      <th>stm_prioriteit</th>\n",
       "      <th>stm_geo_gst</th>\n",
       "      <th>stm_oorz_code</th>\n",
       "      <th>stm_tao_indicator</th>\n",
       "      <th>stm_tao_indicator_vorige</th>\n",
       "      <th>stm_tao_soort_mutatie</th>\n",
       "      <th>stm_tao_telling_mutatie</th>\n",
       "      <th>stm_tao_beinvloedbaar_indicator</th>\n",
       "      <th>stm_contractgeb_mld</th>\n",
       "      <th>stm_techn_mld</th>\n",
       "      <th>stm_techn_gst</th>\n",
       "      <th>stm_sap_storeind</th>\n",
       "      <th>stm_sap_meld</th>\n",
       "      <th>stm_aanngeb</th>\n",
       "      <th>stm_aanntpl</th>\n",
       "    </tr>\n",
       "  </thead>\n",
       "  <tbody>\n",
       "    <tr>\n",
       "      <th>1</th>\n",
       "      <td>0.0</td>\n",
       "      <td>02/01/2006 09:00:00</td>\n",
       "      <td>624.0</td>\n",
       "      <td>NaN</td>\n",
       "      <td>NaN</td>\n",
       "      <td>9.0</td>\n",
       "      <td>624.0</td>\n",
       "      <td>133.0</td>\n",
       "      <td>N</td>\n",
       "      <td>NaN</td>\n",
       "      <td>NaN</td>\n",
       "      <td>0</td>\n",
       "      <td>B</td>\n",
       "      <td>NaN</td>\n",
       "      <td>NaN</td>\n",
       "      <td>S</td>\n",
       "      <td>2006-02-01 09:00:00</td>\n",
       "      <td>2006-02-01 09:00:00</td>\n",
       "      <td>2006-02-01 09:00:00</td>\n",
       "      <td>NaT</td>\n",
       "    </tr>\n",
       "    <tr>\n",
       "      <th>2</th>\n",
       "      <td>51.0</td>\n",
       "      <td>02/01/2006 12:35:00</td>\n",
       "      <td>201.0</td>\n",
       "      <td>NaN</td>\n",
       "      <td>NaN</td>\n",
       "      <td>9.0</td>\n",
       "      <td>201.0</td>\n",
       "      <td>143.0</td>\n",
       "      <td>N</td>\n",
       "      <td>NaN</td>\n",
       "      <td>NaN</td>\n",
       "      <td>0</td>\n",
       "      <td>NB</td>\n",
       "      <td>NaN</td>\n",
       "      <td>NaN</td>\n",
       "      <td>B</td>\n",
       "      <td>2006-02-01 13:26:00</td>\n",
       "      <td>2006-02-01 12:35:00</td>\n",
       "      <td>2006-02-01 12:35:00</td>\n",
       "      <td>NaT</td>\n",
       "    </tr>\n",
       "    <tr>\n",
       "      <th>3</th>\n",
       "      <td>40.0</td>\n",
       "      <td>02/01/2006 16:40:00</td>\n",
       "      <td>25.0</td>\n",
       "      <td>NaN</td>\n",
       "      <td>NaN</td>\n",
       "      <td>9.0</td>\n",
       "      <td>25.0</td>\n",
       "      <td>142.0</td>\n",
       "      <td>N</td>\n",
       "      <td>NaN</td>\n",
       "      <td>NaN</td>\n",
       "      <td>0</td>\n",
       "      <td>NB</td>\n",
       "      <td>NaN</td>\n",
       "      <td>NaN</td>\n",
       "      <td>B</td>\n",
       "      <td>2006-02-01 17:20:00</td>\n",
       "      <td>2006-02-01 16:40:00</td>\n",
       "      <td>2006-02-01 16:40:00</td>\n",
       "      <td>NaT</td>\n",
       "    </tr>\n",
       "    <tr>\n",
       "      <th>4</th>\n",
       "      <td>6.0</td>\n",
       "      <td>02/01/2006 22:30:00</td>\n",
       "      <td>12.0</td>\n",
       "      <td>NaN</td>\n",
       "      <td>NaN</td>\n",
       "      <td>9.0</td>\n",
       "      <td>12.0</td>\n",
       "      <td>142.0</td>\n",
       "      <td>N</td>\n",
       "      <td>NaN</td>\n",
       "      <td>NaN</td>\n",
       "      <td>0</td>\n",
       "      <td>NB</td>\n",
       "      <td>NaN</td>\n",
       "      <td>NaN</td>\n",
       "      <td>B</td>\n",
       "      <td>2006-02-01 22:36:00</td>\n",
       "      <td>2006-02-01 22:30:00</td>\n",
       "      <td>2006-02-01 22:30:00</td>\n",
       "      <td>NaT</td>\n",
       "    </tr>\n",
       "    <tr>\n",
       "      <th>6</th>\n",
       "      <td>13.0</td>\n",
       "      <td>02/01/2006 23:25:00</td>\n",
       "      <td>551.0</td>\n",
       "      <td>NaN</td>\n",
       "      <td>NaN</td>\n",
       "      <td>9.0</td>\n",
       "      <td>551.0</td>\n",
       "      <td>142.0</td>\n",
       "      <td>N</td>\n",
       "      <td>NaN</td>\n",
       "      <td>NaN</td>\n",
       "      <td>0</td>\n",
       "      <td>NB</td>\n",
       "      <td>NaN</td>\n",
       "      <td>NaN</td>\n",
       "      <td>B</td>\n",
       "      <td>2006-03-01 09:44:00</td>\n",
       "      <td>2006-02-01 23:25:00</td>\n",
       "      <td>2006-02-01 23:25:00</td>\n",
       "      <td>NaT</td>\n",
       "    </tr>\n",
       "  </tbody>\n",
       "</table>\n",
       "</div>"
      ],
      "text/plain": [
       "   stm_fh_duur     stm_sap_meld_ddt  stm_geo_mld  stm_equipm_nr_mld stm_equipm_soort_mld  stm_prioriteit  stm_geo_gst  stm_oorz_code stm_tao_indicator stm_tao_indicator_vorige stm_tao_soort_mutatie  stm_tao_telling_mutatie stm_tao_beinvloedbaar_indicator  stm_contractgeb_mld stm_techn_mld stm_techn_gst    stm_sap_storeind        stm_sap_meld         stm_aanngeb stm_aanntpl\n",
       "1          0.0  02/01/2006 09:00:00        624.0                NaN                  NaN             9.0        624.0          133.0                 N                      NaN                   NaN                        0                               B                  NaN           NaN             S 2006-02-01 09:00:00 2006-02-01 09:00:00 2006-02-01 09:00:00         NaT\n",
       "2         51.0  02/01/2006 12:35:00        201.0                NaN                  NaN             9.0        201.0          143.0                 N                      NaN                   NaN                        0                              NB                  NaN           NaN             B 2006-02-01 13:26:00 2006-02-01 12:35:00 2006-02-01 12:35:00         NaT\n",
       "3         40.0  02/01/2006 16:40:00         25.0                NaN                  NaN             9.0         25.0          142.0                 N                      NaN                   NaN                        0                              NB                  NaN           NaN             B 2006-02-01 17:20:00 2006-02-01 16:40:00 2006-02-01 16:40:00         NaT\n",
       "4          6.0  02/01/2006 22:30:00         12.0                NaN                  NaN             9.0         12.0          142.0                 N                      NaN                   NaN                        0                              NB                  NaN           NaN             B 2006-02-01 22:36:00 2006-02-01 22:30:00 2006-02-01 22:30:00         NaT\n",
       "6         13.0  02/01/2006 23:25:00        551.0                NaN                  NaN             9.0        551.0          142.0                 N                      NaN                   NaN                        0                              NB                  NaN           NaN             B 2006-03-01 09:44:00 2006-02-01 23:25:00 2006-02-01 23:25:00         NaT"
      ]
     },
     "execution_count": 23,
     "metadata": {},
     "output_type": "execute_result"
    }
   ],
   "source": [
    "df.head()"
   ]
  },
  {
   "cell_type": "code",
   "execution_count": 24,
   "metadata": {
    "pycharm": {
     "is_executing": true
    }
   },
   "outputs": [
    {
     "data": {
      "text/html": [
       "<div>\n",
       "<style scoped>\n",
       "    .dataframe tbody tr th:only-of-type {\n",
       "        vertical-align: middle;\n",
       "    }\n",
       "\n",
       "    .dataframe tbody tr th {\n",
       "        vertical-align: top;\n",
       "    }\n",
       "\n",
       "    .dataframe thead th {\n",
       "        text-align: right;\n",
       "    }\n",
       "</style>\n",
       "<table border=\"1\" class=\"dataframe\">\n",
       "  <thead>\n",
       "    <tr style=\"text-align: right;\">\n",
       "      <th></th>\n",
       "      <th>stm_fh_duur</th>\n",
       "      <th>stm_geo_mld</th>\n",
       "      <th>stm_equipm_nr_mld</th>\n",
       "      <th>stm_prioriteit</th>\n",
       "      <th>stm_geo_gst</th>\n",
       "      <th>stm_oorz_code</th>\n",
       "      <th>stm_tao_telling_mutatie</th>\n",
       "      <th>stm_contractgeb_mld</th>\n",
       "    </tr>\n",
       "  </thead>\n",
       "  <tbody>\n",
       "    <tr>\n",
       "      <th>count</th>\n",
       "      <td>545476.000000</td>\n",
       "      <td>545476.000000</td>\n",
       "      <td>4.663010e+05</td>\n",
       "      <td>545476.000000</td>\n",
       "      <td>545476.000000</td>\n",
       "      <td>545476.000000</td>\n",
       "      <td>545476.000000</td>\n",
       "      <td>466234.000000</td>\n",
       "    </tr>\n",
       "    <tr>\n",
       "      <th>mean</th>\n",
       "      <td>964.831652</td>\n",
       "      <td>341.821855</td>\n",
       "      <td>1.056978e+07</td>\n",
       "      <td>3.739811</td>\n",
       "      <td>341.283149</td>\n",
       "      <td>198.460682</td>\n",
       "      <td>0.110232</td>\n",
       "      <td>23.154748</td>\n",
       "    </tr>\n",
       "    <tr>\n",
       "      <th>std</th>\n",
       "      <td>6213.017659</td>\n",
       "      <td>269.445416</td>\n",
       "      <td>4.376780e+05</td>\n",
       "      <td>1.477180</td>\n",
       "      <td>269.287167</td>\n",
       "      <td>46.419933</td>\n",
       "      <td>0.322085</td>\n",
       "      <td>17.898731</td>\n",
       "    </tr>\n",
       "    <tr>\n",
       "      <th>min</th>\n",
       "      <td>0.000000</td>\n",
       "      <td>0.000000</td>\n",
       "      <td>1.000001e+07</td>\n",
       "      <td>1.000000</td>\n",
       "      <td>0.000000</td>\n",
       "      <td>48.000000</td>\n",
       "      <td>-1.000000</td>\n",
       "      <td>0.000000</td>\n",
       "    </tr>\n",
       "    <tr>\n",
       "      <th>25%</th>\n",
       "      <td>56.000000</td>\n",
       "      <td>87.000000</td>\n",
       "      <td>1.021127e+07</td>\n",
       "      <td>2.000000</td>\n",
       "      <td>87.000000</td>\n",
       "      <td>148.000000</td>\n",
       "      <td>0.000000</td>\n",
       "      <td>9.000000</td>\n",
       "    </tr>\n",
       "    <tr>\n",
       "      <th>50%</th>\n",
       "      <td>118.000000</td>\n",
       "      <td>226.000000</td>\n",
       "      <td>1.052733e+07</td>\n",
       "      <td>4.000000</td>\n",
       "      <td>226.000000</td>\n",
       "      <td>215.000000</td>\n",
       "      <td>0.000000</td>\n",
       "      <td>21.000000</td>\n",
       "    </tr>\n",
       "    <tr>\n",
       "      <th>75%</th>\n",
       "      <td>365.000000</td>\n",
       "      <td>553.000000</td>\n",
       "      <td>1.081592e+07</td>\n",
       "      <td>5.000000</td>\n",
       "      <td>553.000000</td>\n",
       "      <td>221.000000</td>\n",
       "      <td>0.000000</td>\n",
       "      <td>31.000000</td>\n",
       "    </tr>\n",
       "    <tr>\n",
       "      <th>max</th>\n",
       "      <td>528297.000000</td>\n",
       "      <td>952.000000</td>\n",
       "      <td>1.167287e+07</td>\n",
       "      <td>9.000000</td>\n",
       "      <td>952.000000</td>\n",
       "      <td>999.000000</td>\n",
       "      <td>1.000000</td>\n",
       "      <td>99.000000</td>\n",
       "    </tr>\n",
       "  </tbody>\n",
       "</table>\n",
       "</div>"
      ],
      "text/plain": [
       "         stm_fh_duur    stm_geo_mld  stm_equipm_nr_mld  stm_prioriteit    stm_geo_gst  stm_oorz_code  stm_tao_telling_mutatie  stm_contractgeb_mld\n",
       "count  545476.000000  545476.000000       4.663010e+05   545476.000000  545476.000000  545476.000000            545476.000000        466234.000000\n",
       "mean      964.831652     341.821855       1.056978e+07        3.739811     341.283149     198.460682                 0.110232            23.154748\n",
       "std      6213.017659     269.445416       4.376780e+05        1.477180     269.287167      46.419933                 0.322085            17.898731\n",
       "min         0.000000       0.000000       1.000001e+07        1.000000       0.000000      48.000000                -1.000000             0.000000\n",
       "25%        56.000000      87.000000       1.021127e+07        2.000000      87.000000     148.000000                 0.000000             9.000000\n",
       "50%       118.000000     226.000000       1.052733e+07        4.000000     226.000000     215.000000                 0.000000            21.000000\n",
       "75%       365.000000     553.000000       1.081592e+07        5.000000     553.000000     221.000000                 0.000000            31.000000\n",
       "max    528297.000000     952.000000       1.167287e+07        9.000000     952.000000     999.000000                 1.000000            99.000000"
      ]
     },
     "execution_count": 24,
     "metadata": {},
     "output_type": "execute_result"
    }
   ],
   "source": [
    "df.describe()"
   ]
  },
  {
   "cell_type": "markdown",
   "metadata": {},
   "source": [
    "### Baseline\n",
    "\n",
    "Er word een gemmidelde duratie van de storingen gezocht."
   ]
  },
  {
   "cell_type": "code",
   "execution_count": 25,
   "metadata": {
    "pycharm": {
     "is_executing": true
    }
   },
   "outputs": [],
   "source": [
    "# df['delta_storeind_meld'] = df['stm_sap_storeind'] - df['stm_sap_meld']\n",
    "# df['delta_storeind_meld'] = df['delta_storeind_meld'].astype('timedelta64[m]')\n",
    "# df['delta_storeind_meld'].describe()\n",
    "\n",
    "# df['delta_storeind_meld'] = df['delta_storeind_meld'][df['delta_storeind_meld'].between(0, 360)]\n",
    "\n",
    "df = df[df['stm_fh_duur']<=360]"
   ]
  },
  {
   "cell_type": "code",
   "execution_count": 26,
   "metadata": {
    "pycharm": {
     "is_executing": true
    }
   },
   "outputs": [
    {
     "data": {
      "text/plain": [
       "{'S': 105.21338751591468,\n",
       " 'B': 104.17822469501301,\n",
       " 'E': 112.37662698082313,\n",
       " 'G': 102.73863153421165,\n",
       " 'T': 116.75807159425742,\n",
       " 'X': 85.45340383344349,\n",
       " 'K': 112.23409116237602,\n",
       " 'P': 46.67882147024504,\n",
       " 'I': 123.42362344582594,\n",
       " 'M': 106.2433090024331,\n",
       " 'O': 107.40637247416909,\n",
       " 'A': 120.96428571428571,\n",
       " 'R': 147.0,\n",
       " 'nan': 101.19149554105306}"
      ]
     },
     "execution_count": 26,
     "metadata": {},
     "output_type": "execute_result"
    }
   ],
   "source": [
    "tech_fields_averages = {};\n",
    "for tech_field in df['stm_techn_gst'].unique():\n",
    "    tech_fields_averages[tech_field]=(df[df['stm_techn_gst']==tech_field]['stm_fh_duur'].mean())\n",
    "    \n",
    "tech_fields_averages['nan']=df['stm_fh_duur'][df['stm_techn_mld'].isna()].mean()\n",
    "\n",
    "tech_fields_averages"
   ]
  },
  {
   "cell_type": "code",
   "execution_count": 27,
   "metadata": {},
   "outputs": [],
   "source": [
    "df['techniek_gem_duur'] = df['stm_techn_gst']\n",
    "for tech_field in df['stm_techn_gst'].unique():\n",
    "    df['techniek_gem_duur'] = df['techniek_gem_duur'].replace(tech_field,tech_fields_averages[tech_field])\n",
    "    \n",
    "df['techniek_gem_duur'] = df['techniek_gem_duur'].fillna(tech_fields_averages['nan'])"
   ]
  },
  {
   "cell_type": "code",
   "execution_count": 28,
   "metadata": {},
   "outputs": [
    {
     "data": {
      "text/plain": [
       "{133.0: 107.82600131319764,\n",
       " 143.0: 121.28628343767787,\n",
       " 142.0: 31.60076670317634,\n",
       " 141.0: 69.87174721189591,\n",
       " 135.0: 101.20996662958844,\n",
       " 151.0: 97.63967629639676,\n",
       " 218.0: 102.68147472642,\n",
       " 189.0: 55.606015037593984,\n",
       " 145.0: 89.03805867576662,\n",
       " 131.0: 61.61594202898551,\n",
       " 146.0: 95.91895958727429,\n",
       " 186.0: 118.29662766689607,\n",
       " 148.0: 64.90815709969789,\n",
       " 134.0: 91.23353293413173,\n",
       " 299.0: 54.306809184481395,\n",
       " 221.0: 106.49779307909604,\n",
       " 140.0: 109.12981766568403,\n",
       " 298.0: 53.748958883218954,\n",
       " 147.0: 96.97452811041201,\n",
       " 130.0: 94.28787878787878,\n",
       " 215.0: 121.18278794509648,\n",
       " 150.0: 106.1427660930529,\n",
       " 132.0: 107.18701550387597,\n",
       " 294.0: 46.765625947256744,\n",
       " 220.0: 118.26898326898326,\n",
       " 213.0: 124.29773195876288,\n",
       " 212.0: 115.2968599807754,\n",
       " 242.0: 111.85486018641811,\n",
       " 183.0: 115.8012077294686,\n",
       " 149.0: 93.820815175596,\n",
       " 227.0: 113.96593673965937,\n",
       " 209.0: 124.66301703163018,\n",
       " 144.0: 126.74621733149931,\n",
       " 184.0: 115.55643564356436,\n",
       " 181.0: 126.19775095995611,\n",
       " 187.0: 123.40201005025126,\n",
       " 219.0: 121.20202282157676,\n",
       " 241.0: 106.20240532241556,\n",
       " 182.0: 94.85618631732169,\n",
       " 225.0: 105.87508846426044,\n",
       " 203.0: 122.35132662397072,\n",
       " 250.0: 127.2,\n",
       " 226.0: 124.4070619586942,\n",
       " 235.0: 101.68449197860963,\n",
       " 214.0: 129.54116413214473,\n",
       " 240.0: 112.93298059964727,\n",
       " 228.0: 112.19483461712733,\n",
       " 222.0: 118.34143049932524,\n",
       " 230.0: 134.95747716894977,\n",
       " 154.0: 123.13795045045045,\n",
       " 223.0: 120.03353490929082,\n",
       " 210.0: 117.42728635682158,\n",
       " 208.0: 122.17808219178082,\n",
       " 207.0: 118.81613085166384,\n",
       " 201.0: 104.50218818380743,\n",
       " 185.0: 129.63392857142858,\n",
       " 204.0: 113.88588007736944,\n",
       " 224.0: 134.17355371900825,\n",
       " 234.0: 117.40326340326341,\n",
       " 229.0: 135.6551724137931,\n",
       " 188.0: 109.08291457286433,\n",
       " 231.0: 120.70212765957447,\n",
       " 211.0: 131.58068315665489,\n",
       " 206.0: 105.67532467532467,\n",
       " 136.0: 87.35185185185185,\n",
       " 205.0: 147.0,\n",
       " 239.0: 115.05223880597015,\n",
       " 202.0: 127.34285714285714,\n",
       " 233.0: 103.35714285714286,\n",
       " 999.0: 89.6875,\n",
       " 51.0: 9.0,\n",
       " 48.0: 2.0,\n",
       " 139.0: 16.4,\n",
       " 200.0: 4.0,\n",
       " 180.0: 80.16666666666667,\n",
       " 'nan': nan}"
      ]
     },
     "execution_count": 28,
     "metadata": {},
     "output_type": "execute_result"
    }
   ],
   "source": [
    "oorz_codes_averages = {};\n",
    "for oorz_code in df['stm_oorz_code'].unique():\n",
    "    oorz_codes_averages[oorz_code]=(df[df['stm_oorz_code']==oorz_code]['stm_fh_duur'].mean())\n",
    "    \n",
    "oorz_codes_averages['nan']=df['stm_fh_duur'][df['stm_oorz_code'].isna()].mean()\n",
    "\n",
    "oorz_codes_averages"
   ]
  },
  {
   "cell_type": "code",
   "execution_count": 29,
   "metadata": {
    "pycharm": {
     "is_executing": true
    }
   },
   "outputs": [],
   "source": [
    "df['stm_oorz_code_gem_duur'] = df['stm_oorz_code']\n",
    "for oorz_code in df['stm_oorz_code'].unique():\n",
    "    df['stm_oorz_code_gem_duur'] = df['stm_oorz_code_gem_duur'].replace(oorz_code,oorz_codes_averages[oorz_code])\n",
    "    \n",
    "df['stm_oorz_code_gem_duur'] = df['stm_oorz_code_gem_duur'].fillna(oorz_codes_averages['nan'])"
   ]
  },
  {
   "cell_type": "markdown",
   "metadata": {},
   "source": [
    "We zien dat er wat extreme waardes tussen zitten. Zo hebben we een storing die maarliefst 1,89 jaar duurt, en minstens een met een negatieve duur (waarschijnlijk omdat `stm_sap_meld` onbreekt).\n",
    "\n",
    "Storingen die langer dan 8 uur duren beschouwen wij als 'speciale' gevallen, en vinden wij niet interessant voor ons doel om algemenere storingen te voorspellen. Waardes die terug de tijd in gaan vinden we interessant doch irrelevant voor de questie."
   ]
  },
  {
   "cell_type": "code",
   "execution_count": 30,
   "metadata": {
    "pycharm": {
     "is_executing": true
    }
   },
   "outputs": [],
   "source": [
    "#df_full.loc[df['delta_storeind_meld'].idxmin()]"
   ]
  },
  {
   "cell_type": "code",
   "execution_count": 31,
   "metadata": {
    "pycharm": {
     "is_executing": true
    }
   },
   "outputs": [
    {
     "data": {
      "text/plain": [
       "stm_fh_duur                        408379\n",
       "stm_sap_meld_ddt                   408379\n",
       "stm_geo_mld                        408379\n",
       "stm_equipm_nr_mld                  349509\n",
       "stm_equipm_soort_mld               349508\n",
       "stm_prioriteit                     408379\n",
       "stm_geo_gst                        408379\n",
       "stm_oorz_code                      408379\n",
       "stm_tao_indicator                  408085\n",
       "stm_tao_indicator_vorige           151792\n",
       "stm_tao_soort_mutatie               92963\n",
       "stm_tao_telling_mutatie            408379\n",
       "stm_tao_beinvloedbaar_indicator    408379\n",
       "stm_contractgeb_mld                349469\n",
       "stm_techn_mld                      349845\n",
       "stm_techn_gst                      408379\n",
       "stm_sap_storeind                   408379\n",
       "stm_sap_meld                       408379\n",
       "stm_aanngeb                        408163\n",
       "stm_aanntpl                        385876\n",
       "techniek_gem_duur                  408379\n",
       "stm_oorz_code_gem_duur             408379\n",
       "dtype: int64"
      ]
     },
     "execution_count": 31,
     "metadata": {},
     "output_type": "execute_result"
    }
   ],
   "source": [
    "# df['stm_techn_gst'].value_counts()\n",
    "df.count()"
   ]
  },
  {
   "cell_type": "code",
   "execution_count": 32,
   "metadata": {
    "pycharm": {
     "is_executing": true
    }
   },
   "outputs": [
    {
     "data": {
      "text/plain": [
       "array([[<matplotlib.axes._subplots.AxesSubplot object at 0x000001D08BF76608>,\n",
       "        <matplotlib.axes._subplots.AxesSubplot object at 0x000001D08C252B08>,\n",
       "        <matplotlib.axes._subplots.AxesSubplot object at 0x000001D0B23153C8>],\n",
       "       [<matplotlib.axes._subplots.AxesSubplot object at 0x000001D0B0FF8408>,\n",
       "        <matplotlib.axes._subplots.AxesSubplot object at 0x000001D0B0FF07C8>,\n",
       "        <matplotlib.axes._subplots.AxesSubplot object at 0x000001D08D6E45C8>],\n",
       "       [<matplotlib.axes._subplots.AxesSubplot object at 0x000001D08D71A348>,\n",
       "        <matplotlib.axes._subplots.AxesSubplot object at 0x000001D08D74F448>,\n",
       "        <matplotlib.axes._subplots.AxesSubplot object at 0x000001D08D756F88>],\n",
       "       [<matplotlib.axes._subplots.AxesSubplot object at 0x000001D08D796188>,\n",
       "        <matplotlib.axes._subplots.AxesSubplot object at 0x000001D08D7F97C8>,\n",
       "        <matplotlib.axes._subplots.AxesSubplot object at 0x000001D08D830988>]],\n",
       "      dtype=object)"
      ]
     },
     "execution_count": 32,
     "metadata": {},
     "output_type": "execute_result"
    },
    {
     "data": {
      "image/png": "[encoded data removed]",
      "text/plain": [
       "<Figure size 1080x720 with 12 Axes>"
      ]
     },
     "metadata": {
      "needs_background": "light"
     },
     "output_type": "display_data"
    }
   ],
   "source": [
    "df.hist(figsize=[15,10])"
   ]
  },
  {
   "cell_type": "code",
   "execution_count": 33,
   "metadata": {
    "pycharm": {
     "is_executing": true
    }
   },
   "outputs": [],
   "source": [
    "from sklearn.linear_model import LinearRegression\n",
    "from sklearn.model_selection import train_test_split\n",
    "\n",
    "from math import sqrt\n",
    "from sklearn.metrics import mean_squared_error\n",
    "from sklearn.metrics import explained_variance_score\n",
    "from sklearn.metrics import mean_absolute_error\n",
    "\n",
    "from sklearn.tree import DecisionTreeClassifier\n",
    "from sklearn import tree"
   ]
  },
  {
   "cell_type": "code",
   "execution_count": 34,
   "metadata": {},
   "outputs": [],
   "source": [
    "df = df.dropna(subset=['stm_fh_duur'])"
   ]
  },
  {
   "cell_type": "markdown",
   "metadata": {},
   "source": [
    "# Decision Tree regressie"
   ]
  },
  {
   "cell_type": "code",
   "execution_count": 35,
   "metadata": {},
   "outputs": [],
   "source": [
    "from sklearn import preprocessing\n",
    "lab_enc = preprocessing.LabelEncoder()\n",
    "df['stm_techn_encoded'] =  lab_enc.fit_transform(df['stm_techn_gst'])"
   ]
  },
  {
   "cell_type": "code",
   "execution_count": 36,
   "metadata": {
    "pycharm": {
     "is_executing": true
    }
   },
   "outputs": [
    {
     "name": "stdout",
     "output_type": "stream",
     "text": [
      "Aantal trainwaarden 367541\n",
      "Aantal testwaarden 40838\n"
     ]
    }
   ],
   "source": [
    "X = df[['stm_techn_encoded','stm_oorz_code','stm_prioriteit']]\n",
    "y = df['stm_fh_duur']\n",
    "\n",
    "X_train, X_test, y_train, y_test = train_test_split(X,y, random_state=0,train_size=0.9)\n",
    "print('Aantal trainwaarden {0:d}'.format(len(X_train)))\n",
    "print('Aantal testwaarden {0:d}'.format(len(y_test)))"
   ]
  },
  {
   "cell_type": "code",
   "execution_count": 37,
   "metadata": {},
   "outputs": [
    {
     "name": "stdout",
     "output_type": "stream",
     "text": [
      "ACC : 0.028184534012439394\n",
      "MSE : 64.2869141485871\n",
      "RMSE: 94.76636851539976\n"
     ]
    }
   ],
   "source": [
    "decision_tree_classifier = DecisionTreeClassifier()\n",
    "decision_tree_classifier.fit(X_train,y_train)\n",
    "print(\"ACC :\",decision_tree_classifier.score(X_test,y_test))\n",
    "pred = decision_tree_classifier.predict(X_test)\n",
    "print(\"MSE :\",mean_absolute_error(y_test,pred))\n",
    "print(\"RMSE:\",sqrt(mean_squared_error(y_test, decision_tree_classifier.predict(X_test))))"
   ]
  },
  {
   "cell_type": "markdown",
   "metadata": {},
   "source": [
    "# Linearregressie"
   ]
  },
  {
   "cell_type": "code",
   "execution_count": 38,
   "metadata": {},
   "outputs": [
    {
     "name": "stdout",
     "output_type": "stream",
     "text": [
      "Aantal trainwaarden 367541\n",
      "Aantal testwaarden 40838\n"
     ]
    }
   ],
   "source": [
    "X = df[['stm_oorz_code_gem_duur','techniek_gem_duur']]\n",
    "y = df['stm_fh_duur']\n",
    "\n",
    "X_train, X_test, y_train, y_test = train_test_split(X,y, random_state=0,train_size=0.9)\n",
    "print('Aantal trainwaarden {0:d}'.format(len(X_train)))\n",
    "print('Aantal testwaarden {0:d}'.format(len(y_test)))"
   ]
  },
  {
   "cell_type": "code",
   "execution_count": 39,
   "metadata": {
    "pycharm": {
     "is_executing": true
    }
   },
   "outputs": [
    {
     "name": "stdout",
     "output_type": "stream",
     "text": [
      "linear_classifier Score   : 0.07605293699349602\n",
      "linear_classifier MSE     : 60.891295345674536\n",
      "linear_classifier RMSE    : 78.36032307902241\n"
     ]
    }
   ],
   "source": [
    "linear_classifier = LinearRegression().fit(X_train, y_train)\n",
    "y_pred = linear_classifier.predict(X_test)\n",
    "# print(\"tree_classifier Score  :\",tree_classifier.score(X, y))\n",
    "print(\"linear_classifier Score   :\",linear_classifier.score(X_test, y_test))\n",
    "print(\"linear_classifier MSE     :\",mean_absolute_error(y_test,y_pred))\n",
    "print(\"linear_classifier RMSE    :\",sqrt(mean_squared_error(y_test, linear_classifier.predict(X_test))))"
   ]
  },
  {
   "cell_type": "code",
   "execution_count": null,
   "metadata": {
    "pycharm": {
     "is_executing": true
    }
   },
   "outputs": [],
   "source": []
  },
  {
   "cell_type": "code",
   "execution_count": 40,
   "metadata": {
    "pycharm": {
     "is_executing": true
    }
   },
   "outputs": [],
   "source": [
    "# df.plot.scatter('stm_techn_gst','delta_storeind_meld')"
   ]
  },
  {
   "cell_type": "code",
   "execution_count": null,
   "metadata": {
    "pycharm": {
     "is_executing": true
    }
   },
   "outputs": [],
   "source": []
  },
  {
   "cell_type": "code",
   "execution_count": null,
   "metadata": {},
   "outputs": [],
   "source": []
  },
  {
   "cell_type": "code",
   "execution_count": null,
   "metadata": {},
   "outputs": [],
   "source": []
  }
 ],
 "metadata": {
  "kernelspec": {
   "display_name": "Python 3",
   "language": "python",
   "name": "python3"
  },
  "language_info": {
   "codemirror_mode": {
    "name": "ipython",
    "version": 3
   },
   "file_extension": ".py",
   "mimetype": "text/x-python",
   "name": "python",
   "nbconvert_exporter": "python",
   "pygments_lexer": "ipython3",
   "version": "3.7.5"
  },
  "pycharm": {
   "stem_cell": {
    "cell_type": "raw",
    "metadata": {
     "collapsed": false
    },
    "source": []
   }
  }
 },
 "nbformat": 4,
 "nbformat_minor": 2
}
